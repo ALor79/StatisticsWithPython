{
 "cells": [
  {
   "cell_type": "code",
   "execution_count": 2,
   "metadata": {},
   "outputs": [],
   "source": [
    "import numpy as np\n",
    "import pandas as pd\n",
    "import matplotlib.pyplot as plt"
   ]
  },
  {
   "cell_type": "code",
   "execution_count": 3,
   "metadata": {},
   "outputs": [],
   "source": [
    "red = np.repeat(np.arange(1,7), 6)\n",
    "blue = np.tile(np.arange(1,7), 6)\n",
    "dice_roll = pd.DataFrame({'Red':red,'Blue':blue,'Total':red+blue})"
   ]
  },
  {
   "cell_type": "code",
   "execution_count": 4,
   "metadata": {},
   "outputs": [
    {
     "name": "stdout",
     "output_type": "stream",
     "text": [
      "[0 1 2 3 4 5 6]\n"
     ]
    }
   ],
   "source": [
    "#question 1\n",
    "print(np.arange(7))"
   ]
  },
  {
   "cell_type": "code",
   "execution_count": 5,
   "metadata": {},
   "outputs": [
    {
     "name": "stdout",
     "output_type": "stream",
     "text": [
      "7     6\n",
      "8     5\n",
      "6     5\n",
      "9     4\n",
      "5     4\n",
      "10    3\n",
      "4     3\n",
      "11    2\n",
      "3     2\n",
      "12    1\n",
      "2     1\n",
      "Name: Total, dtype: int64\n"
     ]
    }
   ],
   "source": [
    "#question 2\n",
    "print(dice_roll.Total.value_counts())"
   ]
  },
  {
   "cell_type": "code",
   "execution_count": 6,
   "metadata": {},
   "outputs": [
    {
     "name": "stdout",
     "output_type": "stream",
     "text": [
      "    Red  Blue  Total\n",
      "0     1     1      2\n",
      "1     1     2      3\n",
      "2     1     3      4\n",
      "3     1     4      5\n",
      "4     1     5      6\n",
      "5     1     6      7\n",
      "6     2     1      3\n",
      "7     2     2      4\n",
      "8     2     3      5\n",
      "9     2     4      6\n",
      "10    2     5      7\n",
      "11    2     6      8\n",
      "12    3     1      4\n",
      "13    3     2      5\n",
      "14    3     3      6\n",
      "15    3     4      7\n",
      "16    3     5      8\n",
      "17    3     6      9\n",
      "18    4     1      5\n",
      "19    4     2      6\n",
      "20    4     3      7\n",
      "21    4     4      8\n",
      "22    4     5      9\n",
      "23    4     6     10\n",
      "24    5     1      6\n",
      "25    5     2      7\n",
      "26    5     3      8\n",
      "27    5     4      9\n",
      "28    5     5     10\n",
      "29    5     6     11\n",
      "30    6     1      7\n",
      "31    6     2      8\n",
      "32    6     3      9\n",
      "33    6     4     10\n",
      "34    6     5     11\n",
      "35    6     6     12\n"
     ]
    }
   ],
   "source": [
    "print(dice_roll)"
   ]
  },
  {
   "cell_type": "code",
   "execution_count": 7,
   "metadata": {},
   "outputs": [
    {
     "name": "stdout",
     "output_type": "stream",
     "text": [
      "9\n"
     ]
    }
   ],
   "source": [
    "print(np.random.choice(dice_roll.Total))"
   ]
  },
  {
   "cell_type": "code",
   "execution_count": 8,
   "metadata": {},
   "outputs": [
    {
     "name": "stdout",
     "output_type": "stream",
     "text": [
      "[10  7  8 11  5 10 10  6  9  7  3  6  7  7  8  5  6  5  3  7]\n"
     ]
    }
   ],
   "source": [
    "# for i in range(1,25):\n",
    "print(np.random.choice(dice_roll.Total,20))"
   ]
  },
  {
   "cell_type": "code",
   "execution_count": 9,
   "metadata": {},
   "outputs": [],
   "source": [
    "results = np.random.choice(dice_roll.Total,5000)\n",
    "results_df = pd.DataFrame({'Results':results})"
   ]
  },
  {
   "cell_type": "code",
   "execution_count": 10,
   "metadata": {},
   "outputs": [
    {
     "name": "stdout",
     "output_type": "stream",
     "text": [
      "7     851\n",
      "6     688\n",
      "8     675\n",
      "5     588\n",
      "9     557\n",
      "4     413\n",
      "10    405\n",
      "11    287\n",
      "3     282\n",
      "2     129\n",
      "12    125\n",
      "Name: Results, dtype: int64\n"
     ]
    }
   ],
   "source": [
    "print(results_df.Results.value_counts())"
   ]
  },
  {
   "cell_type": "code",
   "execution_count": 11,
   "metadata": {},
   "outputs": [
    {
     "data": {
      "text/plain": [
       "(array([129., 282., 413., 588., 688., 851., 675., 557., 405., 412.]),\n",
       " array([ 2.,  3.,  4.,  5.,  6.,  7.,  8.,  9., 10., 11., 12.]),\n",
       " <a list of 10 Patch objects>)"
      ]
     },
     "execution_count": 11,
     "metadata": {},
     "output_type": "execute_result"
    },
    {
     "data": {
      "image/png": "[encoded data removed]",
      "text/plain": [
       "<Figure size 432x288 with 1 Axes>"
      ]
     },
     "metadata": {
      "needs_background": "light"
     },
     "output_type": "display_data"
    }
   ],
   "source": [
    "plt.hist(results_df.Results)"
   ]
  },
  {
   "cell_type": "code",
   "execution_count": 12,
   "metadata": {},
   "outputs": [
    {
     "name": "stdout",
     "output_type": "stream",
     "text": [
      "11\n"
     ]
    }
   ],
   "source": [
    "#question 5\n",
    "np.random.seed(544)\n",
    "print(np.random.choice(dice_roll.Total))"
   ]
  },
  {
   "cell_type": "code",
   "execution_count": 13,
   "metadata": {},
   "outputs": [
    {
     "data": {
      "text/plain": [
       "(array([ 25.,  50.,  95., 113., 156., 160., 132., 109.,  84.,  76.]),\n",
       " array([ 2.,  3.,  4.,  5.,  6.,  7.,  8.,  9., 10., 11., 12.]),\n",
       " <a list of 10 Patch objects>)"
      ]
     },
     "execution_count": 13,
     "metadata": {},
     "output_type": "execute_result"
    },
    {
     "data": {
      "image/png": "[encoded data removed]",
      "text/plain": [
       "<Figure size 432x288 with 1 Axes>"
      ]
     },
     "metadata": {
      "needs_background": "light"
     },
     "output_type": "display_data"
    }
   ],
   "source": [
    "# question 3\n",
    "np.random.seed(10)\n",
    "result =np.random.choice(dice_roll.Total,1000)\n",
    "results_df = pd.DataFrame({'Results':result})\n",
    "plt.hist(results_df.Results)"
   ]
  },
  {
   "cell_type": "code",
   "execution_count": 14,
   "metadata": {},
   "outputs": [
    {
     "data": {
      "text/plain": [
       "(array([ 297.,  548.,  863., 1105., 1386., 1705., 1370., 1091.,  833.,\n",
       "         537.,  265.]),\n",
       " array([ 2.        ,  2.90909091,  3.81818182,  4.72727273,  5.63636364,\n",
       "         6.54545455,  7.45454545,  8.36363636,  9.27272727, 10.18181818,\n",
       "        11.09090909, 12.        ]),\n",
       " <a list of 11 Patch objects>)"
      ]
     },
     "execution_count": 14,
     "metadata": {},
     "output_type": "execute_result"
    },
    {
     "data": {
      "image/png": "[encoded data removed]",
      "text/plain": [
       "<Figure size 432x288 with 1 Axes>"
      ]
     },
     "metadata": {
      "needs_background": "light"
     },
     "output_type": "display_data"
    }
   ],
   "source": [
    "# question 4\n",
    "np.random.seed()\n",
    "result =np.random.choice(dice_roll.Total,10000)\n",
    "results_df = pd.DataFrame({'Results':result})\n",
    "plt.hist(results_df.Results,bins=11)"
   ]
  },
  {
   "cell_type": "code",
   "execution_count": 15,
   "metadata": {},
   "outputs": [
    {
     "data": {
      "text/plain": [
       "7     862\n",
       "8     693\n",
       "6     690\n",
       "9     555\n",
       "5     553\n",
       "4     422\n",
       "10    404\n",
       "11    297\n",
       "3     269\n",
       "2     135\n",
       "12    120\n",
       "Name: Results, dtype: int64"
      ]
     },
     "execution_count": 15,
     "metadata": {},
     "output_type": "execute_result"
    }
   ],
   "source": [
    "# question 6 and 7\n",
    "np.random.seed(101)\n",
    "result =np.random.choice(dice_roll.Total,5000)\n",
    "results_df = pd.DataFrame({'Results':result})\n",
    "results_df.Results.value_counts()\n"
   ]
  },
  {
   "cell_type": "code",
   "execution_count": 16,
   "metadata": {},
   "outputs": [
    {
     "name": "stdout",
     "output_type": "stream",
     "text": [
      "4\n",
      "5\n",
      "6\n",
      "7\n"
     ]
    }
   ],
   "source": [
    "#question 8\n",
    "for i in range(4,8):\n",
    "    print(i)"
   ]
  },
  {
   "cell_type": "code",
   "execution_count": 21,
   "metadata": {},
   "outputs": [
    {
     "name": "stdout",
     "output_type": "stream",
     "text": [
      "125\n"
     ]
    }
   ],
   "source": [
    "#question 9\n",
    "four_dice = np.zeros([pow(6,4),5])\n",
    "n = 0\n",
    "for i in range(1,7):\n",
    "    for j in range(1,7):\n",
    "        for k in range(1,7):\n",
    "            for l in range(1,7):\n",
    "                four_dice[n,:] = [i,j,k,l,i+j+k+l]\n",
    "                n +=1\n",
    "four_dice_df = pd.DataFrame(four_dice,columns=('1','2','3','4','Total'))\n",
    "count=0\n",
    "i=0\n",
    "for i in range(0,pow(6,4)):\n",
    "    if(four_dice_df.iloc[i,4]==12.0):\n",
    "        count+=1\n",
    "print (count)\n"
   ]
  },
  {
   "cell_type": "code",
   "execution_count": 20,
   "metadata": {},
   "outputs": [
    {
     "data": {
      "text/plain": [
       "(array([  14.,   26.,   72.,  138.,  255.,  455.,  566.,  782.,  974.,\n",
       "        1080., 1106., 1138.,  977.,  779.,  614.,  447.,  275.,  167.,\n",
       "          89.,   35.,   11.]),\n",
       " array([ 4.        ,  4.95238095,  5.9047619 ,  6.85714286,  7.80952381,\n",
       "         8.76190476,  9.71428571, 10.66666667, 11.61904762, 12.57142857,\n",
       "        13.52380952, 14.47619048, 15.42857143, 16.38095238, 17.33333333,\n",
       "        18.28571429, 19.23809524, 20.19047619, 21.14285714, 22.0952381 ,\n",
       "        23.04761905, 24.        ]),\n",
       " <a list of 21 Patch objects>)"
      ]
     },
     "execution_count": 20,
     "metadata": {},
     "output_type": "execute_result"
    },
    {
     "data": {
      "image/png": "[encoded data removed]",
      "text/plain": [
       "<Figure size 432x288 with 1 Axes>"
      ]
     },
     "metadata": {
      "needs_background": "light"
     },
     "output_type": "display_data"
    }
   ],
   "source": [
    "#question 10\n",
    "arr=np.random.choice(four_dice_df.Total,10000)\n",
    "results_df = pd.DataFrame({'Results':arr})\n",
    "plt.hist(results_df.Results,bins=21)"
   ]
  },
  {
   "cell_type": "code",
   "execution_count": null,
   "metadata": {},
   "outputs": [],
   "source": []
  }
 ],
 "metadata": {
  "kernelspec": {
   "display_name": "Python 3",
   "language": "python",
   "name": "python3"
  },
  "language_info": {
   "codemirror_mode": {
    "name": "ipython",
    "version": 3
   },
   "file_extension": ".py",
   "mimetype": "text/x-python",
   "name": "python",
   "nbconvert_exporter": "python",
   "pygments_lexer": "ipython3",
   "version": "3.7.4"
  }
 },
 "nbformat": 4,
 "nbformat_minor": 2
}
