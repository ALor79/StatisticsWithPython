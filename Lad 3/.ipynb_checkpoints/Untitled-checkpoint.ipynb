{
 "cells": [
  {
   "cell_type": "code",
   "execution_count": 3,
   "metadata": {},
   "outputs": [],
   "source": [
    "import numpy as np\n",
    "import pandas as pd\n",
    "import matplotlib.pyplot as plt\n",
    "import scipy.stats as stats"
   ]
  },
  {
   "cell_type": "code",
   "execution_count": 8,
   "metadata": {},
   "outputs": [
    {
     "name": "stdout",
     "output_type": "stream",
     "text": [
      "[5 7 5 9 5 7 4 5 5 3 4 5 5 9 5]\n"
     ]
    }
   ],
   "source": [
    "binomial = stats.binom.rvs(n=10, p=0.5, size=15)\n",
    "print(binomial)"
   ]
  },
  {
   "cell_type": "code",
   "execution_count": 33,
   "metadata": {},
   "outputs": [
    {
     "name": "stdout",
     "output_type": "stream",
     "text": [
      "2.1759943874825742\n"
     ]
    }
   ],
   "source": [
    "for i in range(0,40):\n",
    "    prob_binom += stats.binom.pmf(i, n=65, p=0.6)\n",
    "print(prob_binom)"
   ]
  },
  {
   "cell_type": "code",
   "execution_count": 32,
   "metadata": {},
   "outputs": [
    {
     "name": "stdout",
     "output_type": "stream",
     "text": [
      "0.6450698224163711\n"
     ]
    }
   ],
   "source": [
    "cum_binom = stats.binom.cdf(40, n=65, p=0.6)\n",
    "print(cum_binom)"
   ]
  },
  {
   "cell_type": "code",
   "execution_count": 34,
   "metadata": {},
   "outputs": [
    {
     "name": "stdout",
     "output_type": "stream",
     "text": [
      "1.2277380399898882e-07\n"
     ]
    }
   ],
   "source": [
    "N = 45\n",
    "s = 6\n",
    "n = 6\n",
    "x = 6\n",
    "jackpot_prob = stats.hypergeom.pmf(x,N,s,n)\n",
    "print(jackpot_prob)"
   ]
  },
  {
   "cell_type": "code",
   "execution_count": 47,
   "metadata": {},
   "outputs": [
    {
     "name": "stdout",
     "output_type": "stream",
     "text": [
      "0    8010\n",
      "1    8460\n",
      "2    3015\n",
      "3     487\n",
      "4      27\n",
      "5       1\n",
      "dtype: int64\n"
     ]
    }
   ],
   "source": [
    "lotto = pd.Series(stats.hypergeom.rvs(N,s,n,size=20000))\n",
    "print(lotto.value_counts(sort=False))"
   ]
  },
  {
   "cell_type": "code",
   "execution_count": null,
   "metadata": {},
   "outputs": [],
   "source": []
  }
 ],
 "metadata": {
  "kernelspec": {
   "display_name": "Python 3",
   "language": "python",
   "name": "python3"
  },
  "language_info": {
   "codemirror_mode": {
    "name": "ipython",
    "version": 3
   },
   "file_extension": ".py",
   "mimetype": "text/x-python",
   "name": "python",
   "nbconvert_exporter": "python",
   "pygments_lexer": "ipython3",
   "version": "3.7.4"
  }
 },
 "nbformat": 4,
 "nbformat_minor": 2
}
