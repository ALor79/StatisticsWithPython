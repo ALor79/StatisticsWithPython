{
 "cells": [
  {
   "cell_type": "code",
   "execution_count": 12,
   "metadata": {},
   "outputs": [
    {
     "data": {
      "text/plain": [
       "array([2, 5, 4, 2, 2, 1, 3, 2, 3, 4, 3])"
      ]
     },
     "execution_count": 12,
     "metadata": {},
     "output_type": "execute_result"
    }
   ],
   "source": [
    "import numpy as np\n",
    "import pandas as pd\n",
    "import matplotlib.pyplot as plt\n",
    "import scipy.stats as stats\n",
    "stats.hypergeom.rvs(50,10,15,size=11)"
   ]
  },
  {
   "cell_type": "code",
   "execution_count": 16,
   "metadata": {},
   "outputs": [
    {
     "name": "stdout",
     "output_type": "stream",
     "text": [
      "0.003\n"
     ]
    }
   ],
   "source": [
    "#Question 2 \n",
    "binomial = stats.binom.pmf(46,n=120, p=0.5)\n",
    "print(round(binomial,3))"
   ]
  },
  {
   "cell_type": "code",
   "execution_count": 19,
   "metadata": {},
   "outputs": [
    {
     "name": "stdout",
     "output_type": "stream",
     "text": [
      "0.456\n"
     ]
    }
   ],
   "source": [
    "#Question 3\n",
    "binom = stats.binom.cdf(39, n=80, p=0.5)\n",
    "print(round(binom,3))"
   ]
  },
  {
   "cell_type": "code",
   "execution_count": 27,
   "metadata": {},
   "outputs": [
    {
     "name": "stdout",
     "output_type": "stream",
     "text": [
      "0.978\n"
     ]
    }
   ],
   "source": [
    "#Question 4\n",
    "bi = stats.binom.cdf(64, n=154, p=0.5)\n",
    "print(1-round(bi,3))"
   ]
  },
  {
   "cell_type": "code",
   "execution_count": 30,
   "metadata": {},
   "outputs": [
    {
     "name": "stdout",
     "output_type": "stream",
     "text": [
      "0.464\n"
     ]
    }
   ],
   "source": [
    "#Question 5\n",
    "bi = stats.binom.cdf(100, n=125, p=0.8)\n",
    "print(round(1-bi,3))"
   ]
  },
  {
   "cell_type": "code",
   "execution_count": 36,
   "metadata": {},
   "outputs": [
    {
     "name": "stdout",
     "output_type": "stream",
     "text": [
      "0.15\n"
     ]
    }
   ],
   "source": [
    "#Question 6\n",
    "N = 52\n",
    "s = 26\n",
    "n = 5\n",
    "x = 1\n",
    "prob = stats.hypergeom.pmf(x,N,s,n)\n",
    "print(round(prob,3))"
   ]
  },
  {
   "cell_type": "code",
   "execution_count": 37,
   "metadata": {},
   "outputs": [
    {
     "name": "stdout",
     "output_type": "stream",
     "text": [
      "0.128\n"
     ]
    }
   ],
   "source": [
    "#Question 7\n",
    "N = 52\n",
    "s = 13\n",
    "n = 6\n",
    "x = 3\n",
    "diamond_prob = stats.hypergeom.pmf(x,N,s,n)\n",
    "print(round(diamond_prob,3))"
   ]
  },
  {
   "cell_type": "code",
   "execution_count": 39,
   "metadata": {},
   "outputs": [
    {
     "name": "stdout",
     "output_type": "stream",
     "text": [
      "0.149\n"
     ]
    }
   ],
   "source": [
    "# Question 8\n",
    "irish_storm=stats.poisson.pmf(1,3)\n",
    "print(round(irish_storm,3))"
   ]
  },
  {
   "cell_type": "code",
   "execution_count": 41,
   "metadata": {},
   "outputs": [
    {
     "name": "stdout",
     "output_type": "stream",
     "text": [
      "0.594\n"
     ]
    }
   ],
   "source": [
    "# Question 9\n",
    "cost_cum=stats.poisson.cdf(1,2)\n",
    "print(round(1-cost_cum,3))"
   ]
  },
  {
   "cell_type": "code",
   "execution_count": 42,
   "metadata": {},
   "outputs": [
    {
     "name": "stdout",
     "output_type": "stream",
     "text": [
      "0.118\n"
     ]
    }
   ],
   "source": [
    "# Question 10\n",
    "lion_cum=stats.poisson.cdf(10,15)\n",
    "print(round(lion_cum,3))"
   ]
  },
  {
   "cell_type": "code",
   "execution_count": null,
   "metadata": {},
   "outputs": [],
   "source": []
  }
 ],
 "metadata": {
  "kernelspec": {
   "display_name": "Python 3",
   "language": "python",
   "name": "python3"
  },
  "language_info": {
   "codemirror_mode": {
    "name": "ipython",
    "version": 3
   },
   "file_extension": ".py",
   "mimetype": "text/x-python",
   "name": "python",
   "nbconvert_exporter": "python",
   "pygments_lexer": "ipython3",
   "version": "3.7.4"
  }
 },
 "nbformat": 4,
 "nbformat_minor": 2
}
