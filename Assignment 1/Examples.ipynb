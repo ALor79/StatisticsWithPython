{
 "cells": [
  {
   "cell_type": "code",
   "execution_count": 1,
   "metadata": {},
   "outputs": [],
   "source": [
    "import numpy as np\n",
    "import scipy as sp\n",
    "import pandas as pd\n"
   ]
  },
  {
   "cell_type": "code",
   "execution_count": 2,
   "metadata": {},
   "outputs": [],
   "source": [
    "dict1 = {'Names':['Aoife','Brian','Catherine','Daniel','Eamonn','Fiona'],\n",
    "'Age':[23,45,17,64,57,32],'Height':[1.7,1.9,1.55,1.8,1.75,1.65],\n",
    "'Weight':[82,88,55,101,75,67]}\n"
   ]
  },
  {
   "cell_type": "code",
   "execution_count": 4,
   "metadata": {},
   "outputs": [],
   "source": [
    "from pandas import DataFrame\n"
   ]
  },
  {
   "cell_type": "code",
   "execution_count": 6,
   "metadata": {},
   "outputs": [
    {
     "name": "stdout",
     "output_type": "stream",
     "text": [
      "       Names  Age  Height  Weight\n",
      "0      Aoife   23    1.70      82\n",
      "1      Brian   45    1.90      88\n",
      "2  Catherine   17    1.55      55\n",
      "3     Daniel   64    1.80     101\n",
      "4     Eamonn   57    1.75      75\n",
      "5      Fiona   32    1.65      67\n"
     ]
    }
   ],
   "source": [
    "df = DataFrame(dict1)\n",
    "print(df)\n"
   ]
  },
  {
   "cell_type": "code",
   "execution_count": 11,
   "metadata": {},
   "outputs": [
    {
     "name": "stdout",
     "output_type": "stream",
     "text": [
      "       Names  Age  Height  Weight\n",
      "2  Catherine   17    1.55      55\n",
      "3     Daniel   64    1.80     101\n",
      "4     Eamonn   57    1.75      75\n"
     ]
    }
   ],
   "source": [
    " print(df.iloc[2:5])"
   ]
  },
  {
   "cell_type": "code",
   "execution_count": 14,
   "metadata": {},
   "outputs": [
    {
     "name": "stdout",
     "output_type": "stream",
     "text": [
      "    Names  Age\n",
      "3  Daniel   64\n",
      "4  Eamonn   57\n"
     ]
    }
   ],
   "source": [
    " print(df.iloc[3:5,:2])"
   ]
  },
  {
   "cell_type": "code",
   "execution_count": 15,
   "metadata": {},
   "outputs": [
    {
     "name": "stdout",
     "output_type": "stream",
     "text": [
      "  StudentID  Coursework  Project   Exam\n",
      "0     34258        86.4       68  90.67\n",
      "1    566811        77.4       55  90.67\n",
      "2   6359256        15.5       66  40.00\n",
      "3   6361307        83.3       85  92.00\n",
      "4   6390081        85.2       90  93.33\n",
      "---------\n",
      "     StudentID  Coursework  Project   Exam\n",
      "46  s04bf0db          89.7       68  86.67\n",
      "47  s04bf1a6          90.8       65  74.67\n",
      "48  s05bf189          96.7       80  88.00\n",
      "49  s05bf1de          68.8       85  68.00\n",
      "50  s05bf1e5          89.2       75  80.00\n"
     ]
    }
   ],
   "source": [
    "data = pd.read_csv('marks.csv')\n",
    "print(data.head()) \n",
    "print(\"---------\") \n",
    "print(data.tail()) "
   ]
  },
  {
   "cell_type": "code",
   "execution_count": 18,
   "metadata": {},
   "outputs": [
    {
     "data": {
      "text/html": [
       "<div>\n",
       "<style scoped>\n",
       "    .dataframe tbody tr th:only-of-type {\n",
       "        vertical-align: middle;\n",
       "    }\n",
       "\n",
       "    .dataframe tbody tr th {\n",
       "        vertical-align: top;\n",
       "    }\n",
       "\n",
       "    .dataframe thead th {\n",
       "        text-align: right;\n",
       "    }\n",
       "</style>\n",
       "<table border=\"1\" class=\"dataframe\">\n",
       "  <thead>\n",
       "    <tr style=\"text-align: right;\">\n",
       "      <th></th>\n",
       "      <th>StudentID</th>\n",
       "      <th>Coursework</th>\n",
       "      <th>Project</th>\n",
       "      <th>Exam</th>\n",
       "    </tr>\n",
       "  </thead>\n",
       "  <tbody>\n",
       "    <tr>\n",
       "      <td>0</td>\n",
       "      <td>34258</td>\n",
       "      <td>86.4</td>\n",
       "      <td>68</td>\n",
       "      <td>90.67</td>\n",
       "    </tr>\n",
       "    <tr>\n",
       "      <td>1</td>\n",
       "      <td>566811</td>\n",
       "      <td>77.4</td>\n",
       "      <td>55</td>\n",
       "      <td>90.67</td>\n",
       "    </tr>\n",
       "    <tr>\n",
       "      <td>2</td>\n",
       "      <td>6359256</td>\n",
       "      <td>15.5</td>\n",
       "      <td>66</td>\n",
       "      <td>40.00</td>\n",
       "    </tr>\n",
       "    <tr>\n",
       "      <td>3</td>\n",
       "      <td>6361307</td>\n",
       "      <td>83.3</td>\n",
       "      <td>85</td>\n",
       "      <td>92.00</td>\n",
       "    </tr>\n",
       "    <tr>\n",
       "      <td>4</td>\n",
       "      <td>6390081</td>\n",
       "      <td>85.2</td>\n",
       "      <td>90</td>\n",
       "      <td>93.33</td>\n",
       "    </tr>\n",
       "    <tr>\n",
       "      <td>5</td>\n",
       "      <td>6391931</td>\n",
       "      <td>95.6</td>\n",
       "      <td>85</td>\n",
       "      <td>90.67</td>\n",
       "    </tr>\n",
       "    <tr>\n",
       "      <td>6</td>\n",
       "      <td>6400353</td>\n",
       "      <td>23.1</td>\n",
       "      <td>85</td>\n",
       "      <td>73.33</td>\n",
       "    </tr>\n",
       "    <tr>\n",
       "      <td>7</td>\n",
       "      <td>6410120</td>\n",
       "      <td>76.6</td>\n",
       "      <td>55</td>\n",
       "      <td>37.33</td>\n",
       "    </tr>\n",
       "    <tr>\n",
       "      <td>8</td>\n",
       "      <td>6410278</td>\n",
       "      <td>92.0</td>\n",
       "      <td>70</td>\n",
       "      <td>82.67</td>\n",
       "    </tr>\n",
       "    <tr>\n",
       "      <td>9</td>\n",
       "      <td>6414893</td>\n",
       "      <td>94.5</td>\n",
       "      <td>80</td>\n",
       "      <td>81.33</td>\n",
       "    </tr>\n",
       "    <tr>\n",
       "      <td>10</td>\n",
       "      <td>6417311</td>\n",
       "      <td>73.0</td>\n",
       "      <td>50</td>\n",
       "      <td>53.33</td>\n",
       "    </tr>\n",
       "    <tr>\n",
       "      <td>11</td>\n",
       "      <td>6439250</td>\n",
       "      <td>82.5</td>\n",
       "      <td>75</td>\n",
       "      <td>92.00</td>\n",
       "    </tr>\n",
       "    <tr>\n",
       "      <td>12</td>\n",
       "      <td>6452370</td>\n",
       "      <td>45.5</td>\n",
       "      <td>90</td>\n",
       "      <td>84.00</td>\n",
       "    </tr>\n",
       "    <tr>\n",
       "      <td>13</td>\n",
       "      <td>6453236</td>\n",
       "      <td>96.2</td>\n",
       "      <td>75</td>\n",
       "      <td>85.33</td>\n",
       "    </tr>\n",
       "    <tr>\n",
       "      <td>14</td>\n",
       "      <td>6457495</td>\n",
       "      <td>41.8</td>\n",
       "      <td>55</td>\n",
       "      <td>37.33</td>\n",
       "    </tr>\n",
       "    <tr>\n",
       "      <td>15</td>\n",
       "      <td>6475647</td>\n",
       "      <td>66.6</td>\n",
       "      <td>85</td>\n",
       "      <td>69.33</td>\n",
       "    </tr>\n",
       "    <tr>\n",
       "      <td>16</td>\n",
       "      <td>6486231</td>\n",
       "      <td>82.3</td>\n",
       "      <td>65</td>\n",
       "      <td>81.33</td>\n",
       "    </tr>\n",
       "    <tr>\n",
       "      <td>17</td>\n",
       "      <td>6490425</td>\n",
       "      <td>86.5</td>\n",
       "      <td>55</td>\n",
       "      <td>64.00</td>\n",
       "    </tr>\n",
       "    <tr>\n",
       "      <td>18</td>\n",
       "      <td>6492525</td>\n",
       "      <td>49.9</td>\n",
       "      <td>65</td>\n",
       "      <td>24.00</td>\n",
       "    </tr>\n",
       "    <tr>\n",
       "      <td>19</td>\n",
       "      <td>6500722</td>\n",
       "      <td>88.0</td>\n",
       "      <td>70</td>\n",
       "      <td>77.33</td>\n",
       "    </tr>\n",
       "    <tr>\n",
       "      <td>20</td>\n",
       "      <td>6504809</td>\n",
       "      <td>58.0</td>\n",
       "      <td>80</td>\n",
       "      <td>46.67</td>\n",
       "    </tr>\n",
       "    <tr>\n",
       "      <td>21</td>\n",
       "      <td>6563210</td>\n",
       "      <td>91.0</td>\n",
       "      <td>70</td>\n",
       "      <td>68.00</td>\n",
       "    </tr>\n",
       "    <tr>\n",
       "      <td>22</td>\n",
       "      <td>6568319</td>\n",
       "      <td>64.5</td>\n",
       "      <td>60</td>\n",
       "      <td>53.33</td>\n",
       "    </tr>\n",
       "    <tr>\n",
       "      <td>23</td>\n",
       "      <td>6584918</td>\n",
       "      <td>91.1</td>\n",
       "      <td>70</td>\n",
       "      <td>72.00</td>\n",
       "    </tr>\n",
       "    <tr>\n",
       "      <td>24</td>\n",
       "      <td>6590152</td>\n",
       "      <td>81.0</td>\n",
       "      <td>60</td>\n",
       "      <td>80.00</td>\n",
       "    </tr>\n",
       "    <tr>\n",
       "      <td>25</td>\n",
       "      <td>6590837</td>\n",
       "      <td>93.1</td>\n",
       "      <td>90</td>\n",
       "      <td>93.33</td>\n",
       "    </tr>\n",
       "    <tr>\n",
       "      <td>26</td>\n",
       "      <td>6900976</td>\n",
       "      <td>97.0</td>\n",
       "      <td>95</td>\n",
       "      <td>96.00</td>\n",
       "    </tr>\n",
       "    <tr>\n",
       "      <td>27</td>\n",
       "      <td>6905617</td>\n",
       "      <td>37.1</td>\n",
       "      <td>70</td>\n",
       "      <td>42.67</td>\n",
       "    </tr>\n",
       "    <tr>\n",
       "      <td>28</td>\n",
       "      <td>7147414</td>\n",
       "      <td>76.6</td>\n",
       "      <td>65</td>\n",
       "      <td>77.33</td>\n",
       "    </tr>\n",
       "    <tr>\n",
       "      <td>29</td>\n",
       "      <td>7147511</td>\n",
       "      <td>98.6</td>\n",
       "      <td>90</td>\n",
       "      <td>90.67</td>\n",
       "    </tr>\n",
       "    <tr>\n",
       "      <td>30</td>\n",
       "      <td>7147724</td>\n",
       "      <td>91.5</td>\n",
       "      <td>75</td>\n",
       "      <td>38.67</td>\n",
       "    </tr>\n",
       "    <tr>\n",
       "      <td>31</td>\n",
       "      <td>7147783</td>\n",
       "      <td>86.8</td>\n",
       "      <td>85</td>\n",
       "      <td>70.67</td>\n",
       "    </tr>\n",
       "    <tr>\n",
       "      <td>32</td>\n",
       "      <td>7261055</td>\n",
       "      <td>41.9</td>\n",
       "      <td>85</td>\n",
       "      <td>38.67</td>\n",
       "    </tr>\n",
       "    <tr>\n",
       "      <td>33</td>\n",
       "      <td>7261101</td>\n",
       "      <td>95.1</td>\n",
       "      <td>85</td>\n",
       "      <td>86.67</td>\n",
       "    </tr>\n",
       "    <tr>\n",
       "      <td>34</td>\n",
       "      <td>7261144</td>\n",
       "      <td>86.7</td>\n",
       "      <td>75</td>\n",
       "      <td>73.33</td>\n",
       "    </tr>\n",
       "    <tr>\n",
       "      <td>35</td>\n",
       "      <td>7261845</td>\n",
       "      <td>57.5</td>\n",
       "      <td>35</td>\n",
       "      <td>70.67</td>\n",
       "    </tr>\n",
       "    <tr>\n",
       "      <td>36</td>\n",
       "      <td>7266456</td>\n",
       "      <td>94.8</td>\n",
       "      <td>65</td>\n",
       "      <td>80.00</td>\n",
       "    </tr>\n",
       "    <tr>\n",
       "      <td>37</td>\n",
       "      <td>96020873</td>\n",
       "      <td>92.2</td>\n",
       "      <td>90</td>\n",
       "      <td>94.67</td>\n",
       "    </tr>\n",
       "    <tr>\n",
       "      <td>38</td>\n",
       "      <td>a03bfb25</td>\n",
       "      <td>95.2</td>\n",
       "      <td>90</td>\n",
       "      <td>92.00</td>\n",
       "    </tr>\n",
       "    <tr>\n",
       "      <td>39</td>\n",
       "      <td>a04bf3c6</td>\n",
       "      <td>59.8</td>\n",
       "      <td>68</td>\n",
       "      <td>40.00</td>\n",
       "    </tr>\n",
       "    <tr>\n",
       "      <td>40</td>\n",
       "      <td>a05bf120</td>\n",
       "      <td>60.0</td>\n",
       "      <td>65</td>\n",
       "      <td>53.33</td>\n",
       "    </tr>\n",
       "    <tr>\n",
       "      <td>41</td>\n",
       "      <td>a05bf20c</td>\n",
       "      <td>88.5</td>\n",
       "      <td>80</td>\n",
       "      <td>48.00</td>\n",
       "    </tr>\n",
       "    <tr>\n",
       "      <td>42</td>\n",
       "      <td>c04bf16c</td>\n",
       "      <td>86.2</td>\n",
       "      <td>50</td>\n",
       "      <td>41.33</td>\n",
       "    </tr>\n",
       "    <tr>\n",
       "      <td>43</td>\n",
       "      <td>s03bf018</td>\n",
       "      <td>83.0</td>\n",
       "      <td>65</td>\n",
       "      <td>65.33</td>\n",
       "    </tr>\n",
       "    <tr>\n",
       "      <td>44</td>\n",
       "      <td>s03bf03e</td>\n",
       "      <td>49.5</td>\n",
       "      <td>95</td>\n",
       "      <td>74.67</td>\n",
       "    </tr>\n",
       "    <tr>\n",
       "      <td>45</td>\n",
       "      <td>s03bf100</td>\n",
       "      <td>83.4</td>\n",
       "      <td>85</td>\n",
       "      <td>72.00</td>\n",
       "    </tr>\n",
       "    <tr>\n",
       "      <td>46</td>\n",
       "      <td>s04bf0db</td>\n",
       "      <td>89.7</td>\n",
       "      <td>68</td>\n",
       "      <td>86.67</td>\n",
       "    </tr>\n",
       "    <tr>\n",
       "      <td>47</td>\n",
       "      <td>s04bf1a6</td>\n",
       "      <td>90.8</td>\n",
       "      <td>65</td>\n",
       "      <td>74.67</td>\n",
       "    </tr>\n",
       "    <tr>\n",
       "      <td>48</td>\n",
       "      <td>s05bf189</td>\n",
       "      <td>96.7</td>\n",
       "      <td>80</td>\n",
       "      <td>88.00</td>\n",
       "    </tr>\n",
       "    <tr>\n",
       "      <td>49</td>\n",
       "      <td>s05bf1de</td>\n",
       "      <td>68.8</td>\n",
       "      <td>85</td>\n",
       "      <td>68.00</td>\n",
       "    </tr>\n",
       "    <tr>\n",
       "      <td>50</td>\n",
       "      <td>s05bf1e5</td>\n",
       "      <td>89.2</td>\n",
       "      <td>75</td>\n",
       "      <td>80.00</td>\n",
       "    </tr>\n",
       "  </tbody>\n",
       "</table>\n",
       "</div>"
      ],
      "text/plain": [
       "     StudentID  Coursework  Project   Exam\n",
       "0        34258        86.4       68  90.67\n",
       "1       566811        77.4       55  90.67\n",
       "2      6359256        15.5       66  40.00\n",
       "3      6361307        83.3       85  92.00\n",
       "4      6390081        85.2       90  93.33\n",
       "5      6391931        95.6       85  90.67\n",
       "6      6400353        23.1       85  73.33\n",
       "7      6410120        76.6       55  37.33\n",
       "8      6410278        92.0       70  82.67\n",
       "9      6414893        94.5       80  81.33\n",
       "10     6417311        73.0       50  53.33\n",
       "11     6439250        82.5       75  92.00\n",
       "12     6452370        45.5       90  84.00\n",
       "13     6453236        96.2       75  85.33\n",
       "14     6457495        41.8       55  37.33\n",
       "15     6475647        66.6       85  69.33\n",
       "16     6486231        82.3       65  81.33\n",
       "17     6490425        86.5       55  64.00\n",
       "18     6492525        49.9       65  24.00\n",
       "19     6500722        88.0       70  77.33\n",
       "20     6504809        58.0       80  46.67\n",
       "21     6563210        91.0       70  68.00\n",
       "22     6568319        64.5       60  53.33\n",
       "23     6584918        91.1       70  72.00\n",
       "24     6590152        81.0       60  80.00\n",
       "25     6590837        93.1       90  93.33\n",
       "26     6900976        97.0       95  96.00\n",
       "27     6905617        37.1       70  42.67\n",
       "28     7147414        76.6       65  77.33\n",
       "29     7147511        98.6       90  90.67\n",
       "30     7147724        91.5       75  38.67\n",
       "31     7147783        86.8       85  70.67\n",
       "32     7261055        41.9       85  38.67\n",
       "33     7261101        95.1       85  86.67\n",
       "34     7261144        86.7       75  73.33\n",
       "35     7261845        57.5       35  70.67\n",
       "36     7266456        94.8       65  80.00\n",
       "37    96020873        92.2       90  94.67\n",
       "38  a03bfb25          95.2       90  92.00\n",
       "39  a04bf3c6          59.8       68  40.00\n",
       "40  a05bf120          60.0       65  53.33\n",
       "41  a05bf20c          88.5       80  48.00\n",
       "42  c04bf16c          86.2       50  41.33\n",
       "43  s03bf018          83.0       65  65.33\n",
       "44  s03bf03e          49.5       95  74.67\n",
       "45  s03bf100          83.4       85  72.00\n",
       "46  s04bf0db          89.7       68  86.67\n",
       "47  s04bf1a6          90.8       65  74.67\n",
       "48  s05bf189          96.7       80  88.00\n",
       "49  s05bf1de          68.8       85  68.00\n",
       "50  s05bf1e5          89.2       75  80.00"
      ]
     },
     "execution_count": 18,
     "metadata": {},
     "output_type": "execute_result"
    }
   ],
   "source": [
    "data\n"
   ]
  },
  {
   "cell_type": "code",
   "execution_count": 20,
   "metadata": {},
   "outputs": [
    {
     "name": "stdout",
     "output_type": "stream",
     "text": [
      "       Coursework    Project       Exam\n",
      "count   51.000000  51.000000  51.000000\n",
      "mean    76.807843  73.333333  70.535882\n",
      "std     20.465921  13.387556  19.616650\n",
      "min     15.500000  35.000000  24.000000\n",
      "25%     65.550000  65.000000  53.330000\n",
      "50%     85.200000  75.000000  74.670000\n",
      "75%     91.300000  85.000000  86.670000\n",
      "max     98.600000  95.000000  96.000000\n"
     ]
    }
   ],
   "source": [
    "print(data.describe())"
   ]
  },
  {
   "cell_type": "code",
   "execution_count": 25,
   "metadata": {},
   "outputs": [
    {
     "name": "stdout",
     "output_type": "stream",
     "text": [
      "'the standard deviation of the exam score was 19.616650088786376 %\n"
     ]
    }
   ],
   "source": [
    "std_exam=data.Exam.std()\n",
    "print(\"the standard deviation of the exam score was\",std_exam,\"%.\")"
   ]
  },
  {
   "cell_type": "code",
   "execution_count": 26,
   "metadata": {},
   "outputs": [
    {
     "name": "stdout",
     "output_type": "stream",
     "text": [
      "the mean for project scores was 73.33333333333333\n"
     ]
    }
   ],
   "source": [
    "mean_project=data.Project.mean()\n",
    "print(\"the mean for project scores was\",mean_project,'%')"
   ]
  },
  {
   "cell_type": "code",
   "execution_count": 32,
   "metadata": {},
   "outputs": [
    {
     "name": "stdout",
     "output_type": "stream",
     "text": [
      "The best project score was achieve by student 6359256 with a score of 15.5 %.\n"
     ]
    }
   ],
   "source": [
    "min_course=data.Coursework.min()\n",
    "min_course_ID = data.loc[data.Coursework.idxmin(),'StudentID']\n",
    "print('The best project score was achieve by student', min_course_ID,'with a score of'\n",
    ", min_course,'%.')"
   ]
  },
  {
   "cell_type": "code",
   "execution_count": 33,
   "metadata": {},
   "outputs": [
    {
     "data": {
      "text/plain": [
       "<matplotlib.collections.PathCollection at 0x114313e90>"
      ]
     },
     "execution_count": 33,
     "metadata": {},
     "output_type": "execute_result"
    }
   ],
   "source": [
    "import matplotlib.pyplot as plt\n",
    "plt.figure()"
   ]
  },
  {
   "cell_type": "code",
   "execution_count": 35,
   "metadata": {},
   "outputs": [
    {
     "data": {
      "text/plain": [
       "<matplotlib.collections.PathCollection at 0x1143b1e10>"
      ]
     },
     "execution_count": 35,
     "metadata": {},
     "output_type": "execute_result"
    },
    {
     "data": {
      "image/png": "[encoded data removed]",
      "text/plain": [
       "<Figure size 432x288 with 1 Axes>"
      ]
     },
     "metadata": {
      "needs_background": "light"
     },
     "output_type": "display_data"
    }
   ],
   "source": []
  },
  {
   "cell_type": "code",
   "execution_count": 37,
   "metadata": {},
   "outputs": [
    {
     "data": {
      "text/plain": [
       "[0, 100, 0, 100]"
      ]
     },
     "execution_count": 37,
     "metadata": {},
     "output_type": "execute_result"
    },
    {
     "data": {
      "image/png": "[encoded data removed]",
      "text/plain": [
       "<Figure size 432x288 with 1 Axes>"
      ]
     },
     "metadata": {
      "needs_background": "light"
     },
     "output_type": "display_data"
    }
   ],
   "source": [
    "\n",
    "plt.scatter(data.Coursework,data.Exam)\n",
    "plt.xlabel('Coursework grade')\n",
    "plt.ylabel('Exam grade')\n",
    "plt.axis([0,100,0,100])"
   ]
  },
  {
   "cell_type": "code",
   "execution_count": 49,
   "metadata": {},
   "outputs": [
    {
     "data": {
      "text/plain": [
       "<matplotlib.legend.Legend at 0x115246b90>"
      ]
     },
     "execution_count": 49,
     "metadata": {},
     "output_type": "execute_result"
    },
    {
     "data": {
      "image/png": "[encoded data removed]",
      "text/plain": [
       "<Figure size 432x288 with 1 Axes>"
      ]
     },
     "metadata": {
      "needs_background": "light"
     },
     "output_type": "display_data"
    }
   ],
   "source": [
    "plt.figure()\n",
    "plt.hist(data.Project,bins=10,alpha=1,label='Project')\n",
    "plt.hist(data.Exam,bins=10,alpha=0.8,label='Exam')\n",
    "plt.xlabel('Grade in %')\n",
    "plt.ylabel('Number of students')\n",
    "plt.legend()"
   ]
  },
  {
   "cell_type": "code",
   "execution_count": 50,
   "metadata": {},
   "outputs": [
    {
     "data": {
      "text/plain": [
       "(0, 100)"
      ]
     },
     "execution_count": 50,
     "metadata": {},
     "output_type": "execute_result"
    },
    {
     "data": {
      "image/png": "[encoded data removed]",
      "text/plain": [
       "<Figure size 432x288 with 1 Axes>"
      ]
     },
     "metadata": {
      "needs_background": "light"
     },
     "output_type": "display_data"
    }
   ],
   "source": [
    "plt.figure()\n",
    "data.boxplot()\n",
    "plt.ylabel('Grade')\n",
    "plt.ylim(0,100)"
   ]
  },
  {
   "cell_type": "code",
   "execution_count": null,
   "metadata": {},
   "outputs": [],
   "source": []
  }
 ],
 "metadata": {
  "kernelspec": {
   "display_name": "Python 3",
   "language": "python",
   "name": "python3"
  },
  "language_info": {
   "codemirror_mode": {
    "name": "ipython",
    "version": 3
   },
   "file_extension": ".py",
   "mimetype": "text/x-python",
   "name": "python",
   "nbconvert_exporter": "python",
   "pygments_lexer": "ipython3",
   "version": "3.7.4"
  }
 },
 "nbformat": 4,
 "nbformat_minor": 2
}
