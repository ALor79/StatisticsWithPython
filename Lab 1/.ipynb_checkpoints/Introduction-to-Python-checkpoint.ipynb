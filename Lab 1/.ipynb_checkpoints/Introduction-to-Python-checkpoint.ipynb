{
 "cells": [
  {
   "cell_type": "markdown",
   "metadata": {},
   "source": [
    "# STAT10430\n",
    "## Getting started with Python"
   ]
  },
  {
   "cell_type": "markdown",
   "metadata": {},
   "source": [
    "## 1 - Introduction"
   ]
  },
  {
   "cell_type": "markdown",
   "metadata": {},
   "source": [
    "**Why Python?**\n",
    "\n",
    "Python's easy to use, powerful and most importantly, free. It is a general-purpose language, which means that it can be used to do just about anything. Unlike many other general-purpose programming languages, such as C, Python handles a lot of complexities for you making it easy to comprehend and learn. \n",
    "\n",
    "**Do I need any experience with programming for this?**\n",
    "\n",
    "No, the sheets you receive in each class will contain all the information you need.\n",
    "But you do have to pay attention to detail - commas, quotation marks, brackets and\n",
    "spelling are very important and are by far the most common sources of programming\n",
    "errors.\n",
    "\n",
    "**How will we be assessed?**\n",
    "\n",
    "In each lab you will receive a general set of instructions and a unique set of exercises, as a Brightspace quiz. You must answer each of the questions in the quiz and upload the Python code associated with the exercises to the corresonding assignment object on Brightspace. Each set of lab exercises is worth 5% of your final grade (total 30%). The exercises will be posted at least one week before the lab session and you will have until the following Monday to complete the exercises. In order to make sure you make the most out of the time you have with the tutors, you should attempt the lab sheet before your scheduled lab session.\n",
    "\n",
    "**Can I get Python on my own computer?**\n",
    "\n",
    "Yes, you can. Go to [Anaconda Distribution](https://www.anaconda.com/distribution/) and follow the download instructions. Be sure to download the Python 3.7 version. Python 2 was sunsetted at the beginning of January. You are welcome to use other Python IDEs, such as Spyder and Canopy, if you wish.\n",
    "\n",
    "**What if I have problems or questions?**\n",
    "\n",
    "Ask the instructors and/or work together on problems with your classmates. If you\n",
    "don't finish a lab sheet in your lab you are expected to complete it in your free time and submit it before the deadline."
   ]
  },
  {
   "cell_type": "markdown",
   "metadata": {},
   "source": [
    "## 2 - Getting Started"
   ]
  },
  {
   "cell_type": "markdown",
   "metadata": {},
   "source": [
    "To Open Jupyter Notebooks click:\n",
    "\n",
    "Start $\\rightarrow$ All Programs $\\rightarrow$ Teaching Applications $\\rightarrow$ Anaconda\n",
    "\n",
    "When Anaconda opens, it will look like this:\n",
    "\n",
    "![title](Anaconda-screen.png)"
   ]
  },
  {
   "cell_type": "markdown",
   "metadata": {},
   "source": [
    "Click on the Jupyter Notebook application and it should launch in your web browser. Navigate to the working directory that you wish to use and click the 'New' button (top right). If you are opening an existing file, navigate to the appropriate directory and click the file to open it\n",
    "\n",
    "![title](Jupyter-screen.png)"
   ]
  },
  {
   "cell_type": "markdown",
   "metadata": {},
   "source": [
    "Jupyter Notebooks allow you to intersperse your code with text and the outputs of the code. [Click here](https://realpython.com/jupyter-notebook-introduction/) for a quick introduction to Jupyter notebooks (skip down to Creating a Notebook).\n",
    "\n",
    "To run a section of code or Markdown press `Shift` and `Enter` or use the `Run` button at the top of your Notebook. If running code, the output should appear under the code and a new box will appear. Type `print('Hello Jupyter')` into your Notebook and run it. This will display the text 'Hello Jupyter' below the command."
   ]
  },
  {
   "cell_type": "code",
   "execution_count": null,
   "metadata": {},
   "outputs": [],
   "source": [
    "print('Hello Jupyter')"
   ]
  },
  {
   "cell_type": "markdown",
   "metadata": {},
   "source": [
    "## 3 - Basics of Python"
   ]
  },
  {
   "cell_type": "markdown",
   "metadata": {},
   "source": [
    "### 3.1 Variables\n",
    "Variables are containers for storing and manipulating information. For example, we can assign the value \"Hello Jupyter\" to the variable X and then print X. The = sign is an assignment operator. This does the same thing as before, but allows us to store X for later use."
   ]
  },
  {
   "cell_type": "code",
   "execution_count": null,
   "metadata": {},
   "outputs": [],
   "source": [
    "X = 'Hello Jupyter'\n",
    "print(X)"
   ]
  },
  {
   "cell_type": "markdown",
   "metadata": {},
   "source": [
    "\n",
    "In Python, variables are designed to hold specific types of information. For example, after the first command above is executed, the variable X is associated with the string type. There are several types of information that can be stored:\n",
    "\n",
    "* Boolean. Variables of this type can be either True or False.\n",
    "* Integer. An integer is a number without a fractional part, e.g. -4, 5, 0, -3.\n",
    "* Float. Any rational number, e.g. 3.432.\n",
    "* String. Any sequence of characters.\n",
    "\n",
    "The string “5” and integer 5 are completely different entities to Python, despite their similar appearance. You’ll see the importance of this in the next section.\n",
    "\n",
    "In order to check the type of the variable, we will use the function type."
   ]
  },
  {
   "cell_type": "code",
   "execution_count": null,
   "metadata": {},
   "outputs": [],
   "source": [
    "print(type(X))"
   ]
  },
  {
   "cell_type": "markdown",
   "metadata": {},
   "source": [
    "Let's try other variable types:"
   ]
  },
  {
   "cell_type": "code",
   "execution_count": null,
   "metadata": {},
   "outputs": [],
   "source": [
    "a = True\n",
    "b = 5\n",
    "c = 3.2\n",
    "d = \"Math\"\n",
    "print(type(a))\n",
    "print(type(b))\n",
    "print(type(c))\n",
    "print(type(d))"
   ]
  },
  {
   "cell_type": "markdown",
   "metadata": {},
   "source": [
    "### Exercise 1 - Variables\n",
    "\n",
    "Write a piece of code that stores the value 5 in a variable X and prints out the value of X, then stores the value 7 in Y and prints out the value of Y (4 lines.)"
   ]
  },
  {
   "cell_type": "markdown",
   "metadata": {},
   "source": [
    "### 3.2 Commands that operate the variables\n",
    "\n",
    "Just storing data in variables isn't much use to us. Right away, we'd like to start performing\n",
    "operations and manipulations on data and variables.\n",
    "\n",
    "There are three very common means of performing an operation on a variable."
   ]
  },
  {
   "cell_type": "markdown",
   "metadata": {},
   "source": [
    "#### 3.2.1 Use an operator\n",
    "\n",
    "All of the basic math operators work like you think they should for numbers. They can also\n",
    "do some useful operations on other things, like strings. There are also boolean operators that\n",
    "compare quantities and give back a `bool` variable as a result.\n",
    "\n",
    "**Numbers (Integers and Floats)**"
   ]
  },
  {
   "cell_type": "code",
   "execution_count": null,
   "metadata": {},
   "outputs": [],
   "source": [
    "a = 2\n",
    "b = 3\n",
    "print(a + b)\n",
    "print(a * b)\n",
    "print(a ** b)  # a to the power of b (a^b does something completely different!)\n",
    "print(a / b) "
   ]
  },
  {
   "cell_type": "markdown",
   "metadata": {},
   "source": [
    "**Strings**"
   ]
  },
  {
   "cell_type": "code",
   "execution_count": null,
   "metadata": {},
   "outputs": [],
   "source": [
    "print('hello' + 'world')\n",
    "print('hello' * 3)"
   ]
  },
  {
   "cell_type": "markdown",
   "metadata": {},
   "source": [
    "**Booleans**"
   ]
  },
  {
   "cell_type": "code",
   "execution_count": null,
   "metadata": {},
   "outputs": [],
   "source": [
    "a = (1 > 3)\n",
    "b = (3 == 3)\n",
    "print(a)\n",
    "print(b)\n",
    "print(a or b)\n",
    "print(a and b)\n",
    "a = True\n",
    "b = True\n",
    "print(a != b)"
   ]
  },
  {
   "cell_type": "markdown",
   "metadata": {},
   "source": [
    "#### 3.2.2 Use a function\n",
    "\n",
    "These will be very familiar to anyone who has programmed in any language, and work like you\n",
    "would expect. There are thousands of functions that operate on variables and objects"
   ]
  },
  {
   "cell_type": "code",
   "execution_count": null,
   "metadata": {},
   "outputs": [],
   "source": [
    "print(len('hello'))\n",
    "print(round(3.3))"
   ]
  },
  {
   "cell_type": "markdown",
   "metadata": {},
   "source": [
    "__TIP:__ To find out what a function does, you can type its name and then a question mark to\n",
    "get a pop up help window. Or, to see what arguments it takes, you can type its name, an open\n",
    "parenthesis, and hit shift+tab."
   ]
  },
  {
   "cell_type": "code",
   "execution_count": null,
   "metadata": {},
   "outputs": [],
   "source": [
    "round?\n",
    "round(3.14159, 2)"
   ]
  },
  {
   "cell_type": "markdown",
   "metadata": {},
   "source": [
    "__TIP:__ Many useful functions are not in the Python built in library, but are in external\n",
    "scientific packages. These need to be imported into your Python notebook (or program) before\n",
    "they can be used. Probably the most important of these are numpy and matplotlib.\n",
    "\n",
    "Let's start with Numpy. Numpy is a very useful package for scientific computing in Python. It allows us to create high-performance multidimensional arrays (vectors and matrices), and provides tools for working with them. When loading a package it is often beneficial to give it an abbreviated name, to save time later. We typically us **np** for numpy. Numpy functions are then referenced by `np.`"
   ]
  },
  {
   "cell_type": "code",
   "execution_count": null,
   "metadata": {},
   "outputs": [],
   "source": [
    "import numpy as np\n",
    "print(np.sqrt(4))\n",
    "print(np.pi)  # Not a function, just a variable\n",
    "print(np.sin(np.pi))\n",
    "np.add?\n",
    "print(np.add(2,3))"
   ]
  },
  {
   "cell_type": "markdown",
   "metadata": {},
   "source": [
    "#### 3.2.3 Use a method\n",
    "Before we get any farther into the Python language, we have to say a word about \"objects\". We\n",
    "will not be teaching object oriented programming in this tutorial, but you will encounter objects\n",
    "throughout Python (in fact, even seemingly simple things like ints and strings are actually\n",
    "objects in Python).\n",
    "\n",
    "In the simplest terms, you can think of an object as a small bundled \"thing\" that contains within\n",
    "itself both data and functions that operate on that data. For example, strings in Python are\n",
    "objects that contain a set of characters and also various functions that operate on the set of\n",
    "characters. When bundled in an object, these functions are called \"methods\".\n",
    "\n",
    "Instead of the \"normal\" `function(arguments)` syntax, methods are called using the\n",
    "syntax `variable.method(arguments)`."
   ]
  },
  {
   "cell_type": "code",
   "execution_count": null,
   "metadata": {},
   "outputs": [],
   "source": [
    "a = 'python is fun'\n",
    "print(a.capitalize())\n",
    "print(a.replace('fun', 'very fun'))"
   ]
  },
  {
   "cell_type": "code",
   "execution_count": 2,
   "metadata": {},
   "outputs": [
    {
     "ename": "SyntaxError",
     "evalue": "invalid syntax (<ipython-input-2-ddf2aa0806dd>, line 3)",
     "output_type": "error",
     "traceback": [
      "\u001b[0;36m  File \u001b[0;32m\"<ipython-input-2-ddf2aa0806dd>\"\u001b[0;36m, line \u001b[0;32m3\u001b[0m\n\u001b[0;31m    We want to calculate `Height in Metres`.  The first thing we want to do is convert from an antiquated measurement system.\u001b[0m\n\u001b[0m          ^\u001b[0m\n\u001b[0;31mSyntaxError\u001b[0m\u001b[0;31m:\u001b[0m invalid syntax\n"
     ]
    }
   ],
   "source": [
    "### Exercise 2 - Commands\n",
    "\n",
    "We want to calculate `Height in Metres`.  The first thing we want to do is convert from an antiquated measurement system.\n",
    "\n",
    "To change inches into metres we use the following equation (conversion factor is rounded)\n",
    "\n",
    " $metre = \\frac{inches}{39}$\n",
    "\n",
    "1. Create a variable for the conversion factor, called `inches_in_metre`.\n",
    "1. Create a variable (`inches`) for your height in inches, as inaccurately as you want.\n",
    "2. Divide `inches` by `inches_in_metre`, and store the result in a new variable, `metres`.\n",
    "1. Print the result\n",
    "\n",
    "__Bonus__\n",
    "\n",
    "Convert from feet and inches to metres."
   ]
  },
  {
   "cell_type": "markdown",
   "metadata": {},
   "source": [
    "__TIP:__ To use Latex select cell type \"markdown\" and two dollar signs before and after the latex equation:\n",
    "$$c = \\sqrt{a^2 + b^2}$$ "
   ]
  },
  {
   "cell_type": "markdown",
   "metadata": {},
   "source": [
    "### 3.3 Collections of variables or objects\n",
    "\n",
    "While it is interesting to explore your own height, in science we work with larger  slightly more complex datasets. In this example, we are interested in the characteristics and distribution of heights. Python provides us with a number of objects to handle collections of things.\n",
    "\n",
    "Probably 99% of your work in scientific Python will use one of four types of collections:\n",
    "`lists`, `tuples`, `dictionaries`, and `numpy arrays`. We'll look quickly at each of these and what\n",
    "they can do for you.\n",
    "\n",
    "#### 3.3.1 Lists\n",
    "\n",
    "Lists are probably the handiest and most flexible type of container. They are declared with square brackets [].  Individual elements of a list can be selected using the syntax `a[ind]`.\n",
    "\n",
    "Create a list:"
   ]
  },
  {
   "cell_type": "code",
   "execution_count": null,
   "metadata": {},
   "outputs": [],
   "source": [
    "a = ['blueberry', 'strawberry', 'pineapple']\n",
    "print(a)\n",
    "print(type(a))"
   ]
  },
  {
   "cell_type": "markdown",
   "metadata": {},
   "source": [
    "Access individual elements:"
   ]
  },
  {
   "cell_type": "code",
   "execution_count": null,
   "metadata": {},
   "outputs": [],
   "source": [
    "print(a[0])\n",
    "print(a[1])"
   ]
  },
  {
   "cell_type": "markdown",
   "metadata": {},
   "source": [
    "**Note:** Indexing starts at zero in Python, so `a[1]` returns the second entry in rather than the first, `a[0]` will return the first entry.\n",
    "\n",
    "You can also count from the end of the list, and combine the element with some text:"
   ]
  },
  {
   "cell_type": "code",
   "execution_count": null,
   "metadata": {},
   "outputs": [],
   "source": [
    "print('The last item is ', a[-1])\n",
    "print('The second to last item is', a[-2])"
   ]
  },
  {
   "cell_type": "markdown",
   "metadata": {},
   "source": [
    "The colon operator can be used to access multiple entries of the list. Run the code below to see how it works:"
   ]
  },
  {
   "cell_type": "code",
   "execution_count": null,
   "metadata": {},
   "outputs": [],
   "source": [
    "print(a[:2])\n",
    "print(a[2:])\n",
    "print(a[:])\n",
    "print(a[:-1])"
   ]
  },
  {
   "cell_type": "markdown",
   "metadata": {},
   "source": [
    "Lists are objects, like everything else, and have methods such as append:"
   ]
  },
  {
   "cell_type": "code",
   "execution_count": null,
   "metadata": {},
   "outputs": [],
   "source": [
    "a.append('banana')\n",
    "print(a)\n",
    "\n",
    "a.append([1,2])\n",
    "print(a)\n",
    "\n",
    "a.pop()\n",
    "print(a)"
   ]
  },
  {
   "cell_type": "markdown",
   "metadata": {},
   "source": [
    "Lists are mutable, which means that the individual elements can be altered"
   ]
  },
  {
   "cell_type": "code",
   "execution_count": null,
   "metadata": {},
   "outputs": [],
   "source": [
    "a[1] = 'apple'\n",
    "print(a)"
   ]
  },
  {
   "cell_type": "markdown",
   "metadata": {},
   "source": [
    "__TIP:__ A 'gotcha' for some new Python users is that many collections, including lists,\n",
    "actually store pointers to data, not the data itself. This is called **pass-by-reference**. If we create a new object `b` from `a`, changing `b` will also change `a`.\n",
    "\n",
    "\n",
    "__HELP:__ look into the `copy` module or work with list content"
   ]
  },
  {
   "cell_type": "code",
   "execution_count": null,
   "metadata": {},
   "outputs": [],
   "source": [
    "a = ['blueberry', 'strawberry', 'pineapple'] \n",
    "b = a\n",
    "print('original a:', a)\n",
    "b.pop()\n",
    "print('a after we change b:', a)"
   ]
  },
  {
   "cell_type": "markdown",
   "metadata": {},
   "source": [
    "#### 3.3.2 Tuples\n",
    "\n",
    "Tuples are similar to lists, but the are **immutable** (elements cannot be changed). Tuples are created using round brackets (). We still use square brackets to access individual elements."
   ]
  },
  {
   "cell_type": "code",
   "execution_count": null,
   "metadata": {},
   "outputs": [],
   "source": [
    "people = ('Adam','Ben','Chalie')\n",
    "print(people[2])"
   ]
  },
  {
   "cell_type": "code",
   "execution_count": null,
   "metadata": {},
   "outputs": [],
   "source": [
    "people[2] = 'Daniel'  # this will result in an error message"
   ]
  },
  {
   "cell_type": "markdown",
   "metadata": {},
   "source": [
    "#### 3.3.3 Dictionaries\n",
    "\n",
    "Dictionaries (dicts for short) are the collection to use when you want to store and retrieve things by their names\n",
    "(or some other kind of key) instead of by their position in the collection. A good example is a set\n",
    "of model parameters, each of which has a name and a value. Dictionaries are declared using {}."
   ]
  },
  {
   "cell_type": "code",
   "execution_count": null,
   "metadata": {},
   "outputs": [],
   "source": [
    "weight = {'Adam' : 97,'Ben' : 105,'Chalie' : 80}\n",
    "\n",
    "print(weight['Adam'])"
   ]
  },
  {
   "cell_type": "markdown",
   "metadata": {},
   "source": [
    "Dicts are mutable so we can add to change individualt elements, and also add to them"
   ]
  },
  {
   "cell_type": "code",
   "execution_count": null,
   "metadata": {},
   "outputs": [],
   "source": [
    "weight['Daniel'] = 86\n",
    "print(weight)"
   ]
  },
  {
   "cell_type": "markdown",
   "metadata": {},
   "source": [
    "### Exercise 3 - Collections\n",
    "\n",
    "Amy is 1.65m, Brian is 1.7m, Conor is 1.95m, David is 1.8m and Edel in 1.75m.\n",
    "1. Store these heights in a list called `heights`.\n",
    "2. Append your own height, calculated above in the variable *metres*, to the list.\n",
    "3. Get the first height from the list and print it.\n",
    "\n",
    "__Bonus__\n",
    "\n",
    "1. Extract the last value in two different ways: first, by using the index for\n",
    "the last item in the list, and second, presuming that you do not know how long the list is.\n",
    "\n",
    "__HINT:__ `len()` can be used to find the length of a collection"
   ]
  },
  {
   "cell_type": "markdown",
   "metadata": {},
   "source": [
    "### 3.4 Control flow\n",
    "\n",
    "Control flow refers to the order in which your code is run. You may only want to run certain sections of your code provided a particular condition is met (`if`), you may want to run a section multiple times (`for`) or you may want to repeat section until a particular condition is met (`while`). Understanding control flow is essential for computer scientists.\n",
    "\n",
    "#### 3.4.1 `if` statements\n",
    "An `if` statement contains a Boolean condition followed by some consequent action. The action will only be carried out if the condition is met. See example below for the syntax. The `if` statement and condition must be followed by a semi-colon `:`."
   ]
  },
  {
   "cell_type": "code",
   "execution_count": null,
   "metadata": {},
   "outputs": [],
   "source": [
    "y = 2\n",
    "z = 0\n",
    "if y<3:\n",
    "    z = 2\n",
    "print(z)"
   ]
  },
  {
   "cell_type": "markdown",
   "metadata": {},
   "source": [
    "Try changing y to 4 and see what happens.\n",
    "\n",
    "**Note** the indentation of `z = 2`. This is very important! Python uses indentations to specify what is/isn't part of the if statement. This will also be the case will `for` and `while` loops. If we were to also indent the print statement, `z` would only be displayed if the condition `y<3` was met.\n",
    "\n",
    "Often there are multiple conditions, with different consequent actions. For this we can extend the if statement with `elif` and `else` statements. An `elif` (else if) statement, like an `if` statement, requires a Boolean condition and the consequent action is carried out if the condition is met, provided all none of the previous conditions were met. An `else` statement does not have a Boolean condition, its consequent action is carried out if none of the previous conditions were met."
   ]
  },
  {
   "cell_type": "code",
   "execution_count": null,
   "metadata": {},
   "outputs": [],
   "source": [
    "x = 7\n",
    "if x > 0:\n",
    "    print('x is positive')\n",
    "elif x < 0:\n",
    "    print('x is negative')\n",
    "else:\n",
    "    print('x is zero')"
   ]
  },
  {
   "cell_type": "markdown",
   "metadata": {},
   "source": [
    "Try changing the value of x to obtained each of the possible outcomes\n",
    "\n",
    "**Note:** Only one set of actions can be carried out per `if/elif/else` statement. When a condition is met and the associated actions implemented, we skip to the end of the `if/elif/else` statement."
   ]
  },
  {
   "cell_type": "code",
   "execution_count": null,
   "metadata": {},
   "outputs": [],
   "source": [
    "p = 4\n",
    "if p>3:\n",
    "    q = 3\n",
    "elif p>1:\n",
    "    q = 1\n",
    "else:\n",
    "    q = 0\n",
    "print(q)"
   ]
  },
  {
   "cell_type": "markdown",
   "metadata": {},
   "source": [
    "Even though p is also greater than 1, we do not get to the `elif` statement because the `if` statement was satisfied. If you change p to 2, you should obtain q = 1"
   ]
  },
  {
   "cell_type": "markdown",
   "metadata": {},
   "source": [
    "#### 3.4.2 `for` loops\n",
    "\n",
    "Often we want to loop over a set of commands multiple times. This is what a `for` loop is used for. Typically, we chnage one of the variable each time we run the section of code.\n",
    "\n",
    "Below we set `i` equal to 1 and execute the commands inside the `for` loop (indented code). Then we set `i` equal to 2 and repeat and continue this process until we each the last value in the list."
   ]
  },
  {
   "cell_type": "code",
   "execution_count": null,
   "metadata": {},
   "outputs": [],
   "source": [
    "sum1 = 0\n",
    "list1 = [1,2,3,4,5,6,7,8,9,10]\n",
    "for i in list1:\n",
    "    sum1 = sum1 + i \n",
    "    print(sum1)"
   ]
  },
  {
   "cell_type": "markdown",
   "metadata": {},
   "source": [
    "We often combine `if` statements and `for` loops:"
   ]
  },
  {
   "cell_type": "code",
   "execution_count": null,
   "metadata": {},
   "outputs": [],
   "source": [
    "for i in list1:\n",
    "    if i%2 == 0:    # `%` is the modulo operator, i.e. a%b is the remainder of a divided by b. \n",
    "        print(i,' is even')\n",
    "    else:\n",
    "        print(i,' is odd')"
   ]
  },
  {
   "cell_type": "markdown",
   "metadata": {},
   "source": [
    "**Note:** When asking if two objects are equal, we must use the double equals operator `==`. A single equal sign `=` is used for assigning values to objects. For not equal we use `!=`."
   ]
  },
  {
   "cell_type": "markdown",
   "metadata": {},
   "source": [
    "#### 3.4.3 `while` loops\n",
    "\n",
    "`while` loops are similar to `for` loops except they contain a Boolean condition rather than a list of values to cycle through. The section of code inside the `while` loop is repeated until the Boolean condition is not longer true. It is important that you ensure your condition can be met, otherwise your code will continue forever. \n",
    "\n",
    "__TIP:___ Press `i` twice to stop the Python interpreter if you accidently create a never-ending loop (`Ctrl` + `c` for most other IDEs)."
   ]
  },
  {
   "cell_type": "code",
   "execution_count": null,
   "metadata": {},
   "outputs": [],
   "source": [
    "x = 0\n",
    "while x<10:\n",
    "    x += 1   # shorthand for x = x + 1\n",
    "    print(x)"
   ]
  },
  {
   "cell_type": "markdown",
   "metadata": {},
   "source": [
    "### Exercise 4 - Control flow\n",
    "\n",
    "1. A bakery sells cupcakes for €1.50 each. However, they offer discounts such that the more you buy the cheaper they are. If you buy more than 10 cupakes they cost €1.00 each, or if you buy more than 4 but less than 10 they cost €1.30 each. Write a set of `if/elif/else` statements to calculate the total cost of the order for $n$ cupcakes. Set $n = 3$, $n = 7$ and $n = 12$ to confirm that you get the correct answer.\n",
    "\n",
    "2. Write a `for` loop to calculate the sum of $x^2$ for x from 0 to 9, $\\sum_{i=0}^9 x^2$.\n",
    "\n",
    "3. Alter your `for` loop to a `while` loop, which again calculates $\\sum_{i=0} x^2$, but terminates instead when the sum is greater 500."
   ]
  },
  {
   "cell_type": "markdown",
   "metadata": {},
   "source": [
    "### 3.5 Functions\n",
    "\n",
    "We have already seen some of Python's built-in functions, but we will often want to create our own functions. A function is an input-output relationship, e.g. $f(x) = x^2$, if we use the input $x = 2$, we get an output $4$, which of course is $2^2$. Similarly, in programming, we specify a set of inputs and commands to be carried of on those inputs and the function returns a set of outputs. In Python, a function is defined using `def`. The function is given a name and its inputs are specified in round brackets after the function name. Typically, a function must have a return statement, which specifies the function output. Below we create a function `f`, which returns the input `x` to the power of 2:"
   ]
  },
  {
   "cell_type": "code",
   "execution_count": null,
   "metadata": {},
   "outputs": [],
   "source": [
    "def f(x):\n",
    "    return pow(x,2)\n",
    "print(f(2))"
   ]
  },
  {
   "cell_type": "markdown",
   "metadata": {},
   "source": [
    "Functions can have more than one input or output:"
   ]
  },
  {
   "cell_type": "code",
   "execution_count": null,
   "metadata": {},
   "outputs": [],
   "source": [
    "def addition(x,y):\n",
    "    return x+y\n",
    "print(addition(2,3))\n",
    "def add_and_sub(x,y):\n",
    "    return x+y, x-y\n",
    "print(add_and_sub(2,3))"
   ]
  },
  {
   "cell_type": "markdown",
   "metadata": {},
   "source": [
    "Combining this with some of the things from the previous section, we can write a function that returns all of the odd numbers up to a particular number:"
   ]
  },
  {
   "cell_type": "code",
   "execution_count": null,
   "metadata": {},
   "outputs": [],
   "source": [
    "def odd_numbers(n):\n",
    "    nums = []\n",
    "    i = 1\n",
    "    while i<n:\n",
    "        if i%2 != 0:\n",
    "            nums.append(i)\n",
    "        i += 1\n",
    "    return nums"
   ]
  },
  {
   "cell_type": "code",
   "execution_count": null,
   "metadata": {},
   "outputs": [],
   "source": [
    "print(odd_numbers(10))"
   ]
  },
  {
   "cell_type": "markdown",
   "metadata": {},
   "source": [
    "We can also stored the output of the function and apply other methods to it"
   ]
  },
  {
   "cell_type": "code",
   "execution_count": null,
   "metadata": {},
   "outputs": [],
   "source": [
    "output = odd_numbers(10)\n",
    "output.append(11)\n",
    "print(output)\n",
    "output.remove(3)\n",
    "print(output)"
   ]
  },
  {
   "cell_type": "markdown",
   "metadata": {},
   "source": [
    "### Exercise 5 - Functions\n",
    "Write a function to compute the Maclaurin Series of $\\sin(x)$ $$\\sum_{k=0}^n \\frac{(-1)^k}{(2k+1)!}x^{2k+1}.$$\n",
    "1. The input arguement should be $x$ and the function should return the estimate of $\\sin(x)$ after $n=10$ iterations. Test your function with $x=0.1$.\n",
    "2. Alter the function from part 1 to include a second input argument $n$, the number of iterations to do. Test the function with $n=10$ to ensure it gives the same answer as before.\n",
    "3. Numpy has a built-in function for $\\sin(x)$, `np.sin()`. Test your function by computing the difference between this value and your estimated value for $\\sin(x)$."
   ]
  }
 ],
 "metadata": {
  "kernelspec": {
   "display_name": "Python 3",
   "language": "python",
   "name": "python3"
  },
  "language_info": {
   "codemirror_mode": {
    "name": "ipython",
    "version": 3
   },
   "file_extension": ".py",
   "mimetype": "text/x-python",
   "name": "python",
   "nbconvert_exporter": "python",
   "pygments_lexer": "ipython3",
   "version": "3.7.4"
  }
 },
 "nbformat": 4,
 "nbformat_minor": 2
}
