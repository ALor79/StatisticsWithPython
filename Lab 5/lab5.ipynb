{
 "cells": [
  {
   "cell_type": "code",
   "execution_count": 4,
   "metadata": {},
   "outputs": [],
   "source": [
    "import numpy as np\n",
    "import pandas as pd\n",
    "import matplotlib.pyplot as plt\n",
    "import scipy.stats as stats"
   ]
  },
  {
   "cell_type": "code",
   "execution_count": 5,
   "metadata": {},
   "outputs": [
    {
     "name": "stdout",
     "output_type": "stream",
     "text": [
      "2.894\n"
     ]
    }
   ],
   "source": [
    "# Question 2\n",
    "u0=149.8\n",
    "s=12.3\n",
    "n=30\n",
    "xbar=156.3\n",
    "z = (xbar-u0)/(s/np.sqrt(n))\n",
    "print(round(z,3))"
   ]
  },
  {
   "cell_type": "code",
   "execution_count": 6,
   "metadata": {},
   "outputs": [
    {
     "name": "stdout",
     "output_type": "stream",
     "text": [
      "False\n"
     ]
    }
   ],
   "source": [
    "# Question 3 \n",
    "# H0 : µ = 31.9\n",
    "# HA : µ > 31.9\n",
    "z = 1.28\n",
    "# we wanna get p(Z>z)\n",
    "prob = stats.norm.cdf(-z)\n",
    "alpha=0.05\n",
    "print(prob<alpha)\n",
    "# we cant reject H0 because the result is not significant"
   ]
  },
  {
   "cell_type": "code",
   "execution_count": 17,
   "metadata": {
    "scrolled": true
   },
   "outputs": [
    {
     "name": "stdout",
     "output_type": "stream",
     "text": [
      "2.353393621658208\n"
     ]
    }
   ],
   "source": [
    "# Question 4\n",
    "# To test the hypothesis that eating fish makes one smarter, a random sample of 12 people take a fish oil supplement\n",
    "# for one year and then are given an IQ test. After taking fish supplements for one year their IQ's are as follows:\n",
    "\n",
    "# [116, 111, 101, 120, 99, 94, 106, 115, 107, 101, 110, 92]\n",
    "\n",
    "# Perform a t-test to assess whether their IQ was greater than average (average IQ is 100). \n",
    "# What do you conclude? (Use α=0.01 )\n",
    "alpha=0.01\n",
    "x=[116, 111, 101, 120, 99, 94, 106, 115, 107, 101, 110, 92]\n",
    "n=12\n",
    "xbar = np.mean(x)\n",
    "s = np.std(x,ddof=1) \n",
    "u0 = 100\n",
    "t = (xbar-u0)/(s/np.sqrt(n))\n",
    "print(t)"
   ]
  },
  {
   "cell_type": "code",
   "execution_count": 18,
   "metadata": {},
   "outputs": [
    {
     "name": "stdout",
     "output_type": "stream",
     "text": [
      "0.019128732387258873\n"
     ]
    }
   ],
   "source": [
    "prob =1- stats.t.cdf(t,n-1)\n",
    "print(prob)"
   ]
  },
  {
   "cell_type": "code",
   "execution_count": 19,
   "metadata": {},
   "outputs": [
    {
     "name": "stdout",
     "output_type": "stream",
     "text": [
      "False\n"
     ]
    }
   ],
   "source": [
    "print(prob<alpha)\n",
    "# the result is not significant we accept the H0"
   ]
  },
  {
   "cell_type": "code",
   "execution_count": 24,
   "metadata": {},
   "outputs": [],
   "source": [
    "# Question 5\n",
    "# A company manufacturing diet pills wants to test the effectiveness of their product.\n",
    "# They set up a clinical trial and give 15 participants the diet pill and 10 participants a placebo.\n",
    "# The weight loss (in kg) for each participant is as follow:\n",
    "\n",
    "drug = [2, 6, 10, 19, 15, 3, 8, 9, 0, 7, 5, 12]\n",
    "\n",
    "placebo = [5, 0, 4, 9, 1, 1, 2, 0, 6, 7]\n",
    "\n",
    "# Perform a two sample t-test to assess whether the drug affects weight loss. What do you conclude? (Use α=0.05 )\n",
    "# H0 says the drug and the placebo arent different\n",
    "# Ha says the placebo and the drug are different\n"
   ]
  },
  {
   "cell_type": "code",
   "execution_count": 25,
   "metadata": {
    "scrolled": true
   },
   "outputs": [
    {
     "name": "stdout",
     "output_type": "stream",
     "text": [
      "True\n"
     ]
    }
   ],
   "source": [
    "alpha=0.05\n",
    "ttest2 = stats.ttest_ind(drug,placebo)\n",
    "print(ttest2.pvalue<alpha)\n",
    "# The results indicate that there is sufficient evidence to reject the null hypothesis"
   ]
  },
  {
   "cell_type": "code",
   "execution_count": 62,
   "metadata": {},
   "outputs": [
    {
     "name": "stdout",
     "output_type": "stream",
     "text": [
      "                            OLS Regression Results                            \n",
      "==============================================================================\n",
      "Dep. Variable:                 Weight   R-squared:                       0.849\n",
      "Model:                            OLS   Adj. R-squared:                  0.847\n",
      "Method:                 Least Squares   F-statistic:                     550.1\n",
      "Date:                Thu, 16 Apr 2020   Prob (F-statistic):           5.51e-42\n",
      "Time:                        14:12:24   Log-Likelihood:                -318.69\n",
      "No. Observations:                 100   AIC:                             641.4\n",
      "Df Residuals:                      98   BIC:                             646.6\n",
      "Df Model:                           1                                         \n",
      "Covariance Type:            nonrobust                                         \n",
      "==============================================================================\n",
      "                 coef    std err          t      P>|t|      [0.025      0.975]\n",
      "------------------------------------------------------------------------------\n",
      "Intercept   -149.2236      9.432    -15.821      0.000    -167.941    -130.507\n",
      "Height         1.3203      0.056     23.453      0.000       1.209       1.432\n",
      "==============================================================================\n",
      "Omnibus:                        2.207   Durbin-Watson:                   2.070\n",
      "Prob(Omnibus):                  0.332   Jarque-Bera (JB):                2.179\n",
      "Skew:                          -0.348   Prob(JB):                        0.336\n",
      "Kurtosis:                       2.806   Cond. No.                     2.67e+03\n",
      "==============================================================================\n",
      "\n",
      "Warnings:\n",
      "[1] Standard Errors assume that the covariance matrix of the errors is correctly specified.\n",
      "[2] The condition number is large, 2.67e+03. This might indicate that there are\n",
      "strong multicollinearity or other numerical problems.\n"
     ]
    }
   ],
   "source": [
    "#Question 6,7\n",
    "import statsmodels.formula.api as smf\n",
    "\n",
    "# Question 6 \n",
    "# For the height versus weight data considered in the lab sheet, what is the 95% confidence \n",
    "# interval for the slope parameter? (Rounded to 2 decimal places)\n",
    "df = pd.read_csv('height-weight.csv')\n",
    "\n",
    "model = smf.ols(formula='Weight~Height',data=df).fit()\n",
    "print(model.summary())"
   ]
  },
  {
   "cell_type": "code",
   "execution_count": 63,
   "metadata": {},
   "outputs": [
    {
     "name": "stdout",
     "output_type": "stream",
     "text": [
      "True\n"
     ]
    }
   ],
   "source": [
    "#Question 8\n",
    "\n",
    "print(df['Height'].max()>175)"
   ]
  },
  {
   "cell_type": "code",
   "execution_count": 69,
   "metadata": {},
   "outputs": [
    {
     "data": {
      "text/plain": [
       "Text(0, 0.5, 'Weight (kg)')"
      ]
     },
     "execution_count": 69,
     "metadata": {},
     "output_type": "execute_result"
    },
    {
     "data": {
      "image/png": "[encoded data removed]",
      "text/plain": [
       "<Figure size 432x288 with 1 Axes>"
      ]
     },
     "metadata": {
      "needs_background": "light"
     },
     "output_type": "display_data"
    }
   ],
   "source": [
    "xrange = np.linspace(140,200)\n",
    "plt.plot(xrange,model.params.Intercept+model.params.Height*xrange)\n",
    "plt.scatter(df.Height,df.Weight)\n",
    "plt.xlabel('Height (cm)')\n",
    "plt.ylabel('Weight (kg)')"
   ]
  },
  {
   "cell_type": "code",
   "execution_count": 70,
   "metadata": {},
   "outputs": [
    {
     "name": "stdout",
     "output_type": "stream",
     "text": [
      "                            OLS Regression Results                            \n",
      "==============================================================================\n",
      "Dep. Variable:                  Price   R-squared:                       0.417\n",
      "Model:                            OLS   Adj. R-squared:                  0.415\n",
      "Method:                 Least Squares   F-statistic:                     227.5\n",
      "Date:                Thu, 16 Apr 2020   Prob (F-statistic):           3.79e-39\n",
      "Time:                        14:17:54   Log-Likelihood:                -3628.7\n",
      "No. Observations:                 320   AIC:                             7261.\n",
      "Df Residuals:                     318   BIC:                             7269.\n",
      "Df Model:                           1                                         \n",
      "Covariance Type:            nonrobust                                         \n",
      "==============================================================================\n",
      "                 coef    std err          t      P>|t|      [0.025      0.975]\n",
      "------------------------------------------------------------------------------\n",
      "Intercept   1.608e+05   6549.632     24.549      0.000    1.48e+05    1.74e+05\n",
      "MPG        -3412.6072    226.272    -15.082      0.000   -3857.787   -2967.427\n",
      "==============================================================================\n",
      "Omnibus:                       14.802   Durbin-Watson:                   0.573\n",
      "Prob(Omnibus):                  0.001   Jarque-Bera (JB):               15.572\n",
      "Skew:                           0.529   Prob(JB):                     0.000415\n",
      "Kurtosis:                       3.225   Cond. No.                         166.\n",
      "==============================================================================\n",
      "\n",
      "Warnings:\n",
      "[1] Standard Errors assume that the covariance matrix of the errors is correctly specified.\n"
     ]
    }
   ],
   "source": [
    "# Question 9 \n",
    "# For the cars dataset, what is the coefficient of determination for the linear regression model? \n",
    "df = pd.read_csv('cars.csv')\n",
    "\n",
    "model = smf.ols(formula='Price~MPG',data=df).fit()\n",
    "print(model.summary())"
   ]
  },
  {
   "cell_type": "code",
   "execution_count": 76,
   "metadata": {},
   "outputs": [
    {
     "name": "stdout",
     "output_type": "stream",
     "text": [
      "True\n"
     ]
    }
   ],
   "source": [
    "# Question 10\n",
    "# For the cars dataset, can we use the fitted regression line to predict the recommended retail\n",
    "# price of a car whose miles per gallon is 35?\n",
    "print(df['MPG'].min()<35 and df['MPG'].max()>35)"
   ]
  },
  {
   "cell_type": "code",
   "execution_count": 77,
   "metadata": {},
   "outputs": [
    {
     "data": {
      "text/plain": [
       "[<matplotlib.lines.Line2D at 0x1a2e4ad310>]"
      ]
     },
     "execution_count": 77,
     "metadata": {},
     "output_type": "execute_result"
    },
    {
     "data": {
      "image/png": "[encoded data removed]",
      "text/plain": [
       "<Figure size 432x288 with 1 Axes>"
      ]
     },
     "metadata": {
      "needs_background": "light"
     },
     "output_type": "display_data"
    }
   ],
   "source": [
    "# Question 11\n",
    "# For the cars dataset, does the spread of the residuals depend on the miles per gallon?\n",
    "\n",
    "plt.scatter(df.MPG,df.Price)\n",
    "xrange = np.linspace(df['MPG'].min(),df['MPG'].max())\n",
    "plt.xlabel('MPG')\n",
    "plt.ylabel('Price')\n",
    "plt.plot(xrange,model.params.Intercept+model.params.MPG*xrange)"
   ]
  },
  {
   "cell_type": "code",
   "execution_count": 78,
   "metadata": {},
   "outputs": [
    {
     "data": {
      "text/html": [
       "<div>\n",
       "<style scoped>\n",
       "    .dataframe tbody tr th:only-of-type {\n",
       "        vertical-align: middle;\n",
       "    }\n",
       "\n",
       "    .dataframe tbody tr th {\n",
       "        vertical-align: top;\n",
       "    }\n",
       "\n",
       "    .dataframe thead th {\n",
       "        text-align: right;\n",
       "    }\n",
       "</style>\n",
       "<table border=\"1\" class=\"dataframe\">\n",
       "  <thead>\n",
       "    <tr style=\"text-align: right;\">\n",
       "      <th></th>\n",
       "      <th>MPG</th>\n",
       "      <th>Price</th>\n",
       "    </tr>\n",
       "  </thead>\n",
       "  <tbody>\n",
       "    <tr>\n",
       "      <td>MPG</td>\n",
       "      <td>1.000000</td>\n",
       "      <td>-0.645762</td>\n",
       "    </tr>\n",
       "    <tr>\n",
       "      <td>Price</td>\n",
       "      <td>-0.645762</td>\n",
       "      <td>1.000000</td>\n",
       "    </tr>\n",
       "  </tbody>\n",
       "</table>\n",
       "</div>"
      ],
      "text/plain": [
       "            MPG     Price\n",
       "MPG    1.000000 -0.645762\n",
       "Price -0.645762  1.000000"
      ]
     },
     "execution_count": 78,
     "metadata": {},
     "output_type": "execute_result"
    }
   ],
   "source": [
    "# Question 12 \n",
    "# For the cars dataset, what is the correlation coefficient between miles per gallon and recommended retail price?\n",
    "df.corr()"
   ]
  },
  {
   "cell_type": "code",
   "execution_count": null,
   "metadata": {},
   "outputs": [],
   "source": []
  }
 ],
 "metadata": {
  "kernelspec": {
   "display_name": "Python 3",
   "language": "python",
   "name": "python3"
  },
  "language_info": {
   "codemirror_mode": {
    "name": "ipython",
    "version": 3
   },
   "file_extension": ".py",
   "mimetype": "text/x-python",
   "name": "python",
   "nbconvert_exporter": "python",
   "pygments_lexer": "ipython3",
   "version": "3.7.4"
  }
 },
 "nbformat": 4,
 "nbformat_minor": 2
}
