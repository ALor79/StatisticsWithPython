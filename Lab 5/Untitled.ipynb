{
 "cells": [
  {
   "cell_type": "code",
   "execution_count": 1,
   "metadata": {},
   "outputs": [],
   "source": [
    "import numpy as np\n",
    "import pandas as pd\n",
    "import matplotlib.pyplot as plt\n",
    "import scipy.stats as stats"
   ]
  },
  {
   "cell_type": "code",
   "execution_count": 13,
   "metadata": {},
   "outputs": [],
   "source": [
    " root=np.sqrt"
   ]
  },
  {
   "cell_type": "code",
   "execution_count": 14,
   "metadata": {},
   "outputs": [
    {
     "name": "stdout",
     "output_type": "stream",
     "text": [
      "-2.8017438499844336\n"
     ]
    }
   ],
   "source": [
    " xbar = 13.6\n",
    "mu = 15.7\n",
    "sigma = 5.3\n",
    "n = 50\n",
    "z = (xbar-mu)/(sigma/root(n))\n",
    "print(z)"
   ]
  },
  {
   "cell_type": "code",
   "execution_count": 17,
   "metadata": {},
   "outputs": [
    {
     "name": "stdout",
     "output_type": "stream",
     "text": [
      "0.002541360621881682\n"
     ]
    }
   ],
   "source": [
    "prob = stats.norm.cdf(z)\n",
    "print(prob)"
   ]
  },
  {
   "cell_type": "code",
   "execution_count": 18,
   "metadata": {},
   "outputs": [],
   "source": [
    "anaemia_data=pd.read_csv('anaemia.csv')"
   ]
  },
  {
   "cell_type": "code",
   "execution_count": 19,
   "metadata": {},
   "outputs": [
    {
     "name": "stdout",
     "output_type": "stream",
     "text": [
      "         Patient     Before      After\n",
      "count  30.000000  30.000000  30.000000\n",
      "mean   15.500000   9.872002  12.054458\n",
      "std     8.803408   0.863718   0.999883\n",
      "min     1.000000   8.183221  10.254872\n",
      "25%     8.250000   9.325065  11.453815\n",
      "50%    15.500000  10.061391  12.043715\n",
      "75%    22.750000  10.258325  12.510066\n",
      "max    30.000000  11.892559  14.359983\n"
     ]
    }
   ],
   "source": [
    "print(anaemia_data.describe())"
   ]
  },
  {
   "cell_type": "code",
   "execution_count": 20,
   "metadata": {},
   "outputs": [
    {
     "data": {
      "text/html": [
       "<div>\n",
       "<style scoped>\n",
       "    .dataframe tbody tr th:only-of-type {\n",
       "        vertical-align: middle;\n",
       "    }\n",
       "\n",
       "    .dataframe tbody tr th {\n",
       "        vertical-align: top;\n",
       "    }\n",
       "\n",
       "    .dataframe thead th {\n",
       "        text-align: right;\n",
       "    }\n",
       "</style>\n",
       "<table border=\"1\" class=\"dataframe\">\n",
       "  <thead>\n",
       "    <tr style=\"text-align: right;\">\n",
       "      <th></th>\n",
       "      <th>Patient</th>\n",
       "      <th>Before</th>\n",
       "      <th>After</th>\n",
       "    </tr>\n",
       "  </thead>\n",
       "  <tbody>\n",
       "    <tr>\n",
       "      <td>0</td>\n",
       "      <td>1</td>\n",
       "      <td>9.117786</td>\n",
       "      <td>12.112929</td>\n",
       "    </tr>\n",
       "    <tr>\n",
       "      <td>1</td>\n",
       "      <td>2</td>\n",
       "      <td>10.074848</td>\n",
       "      <td>12.518423</td>\n",
       "    </tr>\n",
       "    <tr>\n",
       "      <td>2</td>\n",
       "      <td>3</td>\n",
       "      <td>10.186123</td>\n",
       "      <td>11.528032</td>\n",
       "    </tr>\n",
       "    <tr>\n",
       "      <td>3</td>\n",
       "      <td>4</td>\n",
       "      <td>9.398755</td>\n",
       "      <td>13.501565</td>\n",
       "    </tr>\n",
       "    <tr>\n",
       "      <td>4</td>\n",
       "      <td>5</td>\n",
       "      <td>10.121229</td>\n",
       "      <td>12.875959</td>\n",
       "    </tr>\n",
       "    <tr>\n",
       "      <td>5</td>\n",
       "      <td>6</td>\n",
       "      <td>9.574643</td>\n",
       "      <td>12.333921</td>\n",
       "    </tr>\n",
       "    <tr>\n",
       "      <td>6</td>\n",
       "      <td>7</td>\n",
       "      <td>10.286168</td>\n",
       "      <td>11.160033</td>\n",
       "    </tr>\n",
       "    <tr>\n",
       "      <td>7</td>\n",
       "      <td>8</td>\n",
       "      <td>9.300501</td>\n",
       "      <td>13.776787</td>\n",
       "    </tr>\n",
       "    <tr>\n",
       "      <td>8</td>\n",
       "      <td>9</td>\n",
       "      <td>10.108360</td>\n",
       "      <td>10.768155</td>\n",
       "    </tr>\n",
       "    <tr>\n",
       "      <td>9</td>\n",
       "      <td>10</td>\n",
       "      <td>8.852812</td>\n",
       "      <td>12.096357</td>\n",
       "    </tr>\n",
       "    <tr>\n",
       "      <td>10</td>\n",
       "      <td>11</td>\n",
       "      <td>8.558250</td>\n",
       "      <td>11.429075</td>\n",
       "    </tr>\n",
       "    <tr>\n",
       "      <td>11</td>\n",
       "      <td>12</td>\n",
       "      <td>8.660642</td>\n",
       "      <td>12.145882</td>\n",
       "    </tr>\n",
       "    <tr>\n",
       "      <td>12</td>\n",
       "      <td>13</td>\n",
       "      <td>10.251329</td>\n",
       "      <td>13.097726</td>\n",
       "    </tr>\n",
       "    <tr>\n",
       "      <td>13</td>\n",
       "      <td>14</td>\n",
       "      <td>11.892559</td>\n",
       "      <td>11.991072</td>\n",
       "    </tr>\n",
       "    <tr>\n",
       "      <td>14</td>\n",
       "      <td>15</td>\n",
       "      <td>10.043462</td>\n",
       "      <td>11.925407</td>\n",
       "    </tr>\n",
       "    <tr>\n",
       "      <td>15</td>\n",
       "      <td>16</td>\n",
       "      <td>10.250900</td>\n",
       "      <td>12.180415</td>\n",
       "    </tr>\n",
       "    <tr>\n",
       "      <td>16</td>\n",
       "      <td>17</td>\n",
       "      <td>10.211394</td>\n",
       "      <td>11.089873</td>\n",
       "    </tr>\n",
       "    <tr>\n",
       "      <td>17</td>\n",
       "      <td>18</td>\n",
       "      <td>9.179688</td>\n",
       "      <td>13.807667</td>\n",
       "    </tr>\n",
       "    <tr>\n",
       "      <td>18</td>\n",
       "      <td>19</td>\n",
       "      <td>8.521977</td>\n",
       "      <td>12.305636</td>\n",
       "    </tr>\n",
       "    <tr>\n",
       "      <td>19</td>\n",
       "      <td>20</td>\n",
       "      <td>8.183221</td>\n",
       "      <td>11.539104</td>\n",
       "    </tr>\n",
       "    <tr>\n",
       "      <td>20</td>\n",
       "      <td>21</td>\n",
       "      <td>9.558645</td>\n",
       "      <td>11.866058</td>\n",
       "    </tr>\n",
       "    <tr>\n",
       "      <td>21</td>\n",
       "      <td>22</td>\n",
       "      <td>10.904289</td>\n",
       "      <td>11.795870</td>\n",
       "    </tr>\n",
       "    <tr>\n",
       "      <td>22</td>\n",
       "      <td>23</td>\n",
       "      <td>10.430615</td>\n",
       "      <td>10.736302</td>\n",
       "    </tr>\n",
       "    <tr>\n",
       "      <td>23</td>\n",
       "      <td>24</td>\n",
       "      <td>10.047934</td>\n",
       "      <td>12.484992</td>\n",
       "    </tr>\n",
       "    <tr>\n",
       "      <td>24</td>\n",
       "      <td>25</td>\n",
       "      <td>11.662251</td>\n",
       "      <td>10.969463</td>\n",
       "    </tr>\n",
       "    <tr>\n",
       "      <td>25</td>\n",
       "      <td>26</td>\n",
       "      <td>10.260657</td>\n",
       "      <td>11.920462</td>\n",
       "    </tr>\n",
       "    <tr>\n",
       "      <td>26</td>\n",
       "      <td>27</td>\n",
       "      <td>9.546757</td>\n",
       "      <td>10.519024</td>\n",
       "    </tr>\n",
       "    <tr>\n",
       "      <td>27</td>\n",
       "      <td>28</td>\n",
       "      <td>10.789681</td>\n",
       "      <td>10.254872</td>\n",
       "    </tr>\n",
       "    <tr>\n",
       "      <td>28</td>\n",
       "      <td>29</td>\n",
       "      <td>10.399415</td>\n",
       "      <td>12.542681</td>\n",
       "    </tr>\n",
       "    <tr>\n",
       "      <td>29</td>\n",
       "      <td>30</td>\n",
       "      <td>9.785166</td>\n",
       "      <td>14.359983</td>\n",
       "    </tr>\n",
       "  </tbody>\n",
       "</table>\n",
       "</div>"
      ],
      "text/plain": [
       "    Patient     Before      After\n",
       "0         1   9.117786  12.112929\n",
       "1         2  10.074848  12.518423\n",
       "2         3  10.186123  11.528032\n",
       "3         4   9.398755  13.501565\n",
       "4         5  10.121229  12.875959\n",
       "5         6   9.574643  12.333921\n",
       "6         7  10.286168  11.160033\n",
       "7         8   9.300501  13.776787\n",
       "8         9  10.108360  10.768155\n",
       "9        10   8.852812  12.096357\n",
       "10       11   8.558250  11.429075\n",
       "11       12   8.660642  12.145882\n",
       "12       13  10.251329  13.097726\n",
       "13       14  11.892559  11.991072\n",
       "14       15  10.043462  11.925407\n",
       "15       16  10.250900  12.180415\n",
       "16       17  10.211394  11.089873\n",
       "17       18   9.179688  13.807667\n",
       "18       19   8.521977  12.305636\n",
       "19       20   8.183221  11.539104\n",
       "20       21   9.558645  11.866058\n",
       "21       22  10.904289  11.795870\n",
       "22       23  10.430615  10.736302\n",
       "23       24  10.047934  12.484992\n",
       "24       25  11.662251  10.969463\n",
       "25       26  10.260657  11.920462\n",
       "26       27   9.546757  10.519024\n",
       "27       28  10.789681  10.254872\n",
       "28       29  10.399415  12.542681\n",
       "29       30   9.785166  14.359983"
      ]
     },
     "execution_count": 20,
     "metadata": {},
     "output_type": "execute_result"
    }
   ],
   "source": [
    "anaemia_data"
   ]
  },
  {
   "cell_type": "code",
   "execution_count": 30,
   "metadata": {},
   "outputs": [],
   "source": [
    "\n",
    "    array=anaemia_data['After']-anaemia_data['Before']"
   ]
  },
  {
   "cell_type": "code",
   "execution_count": 31,
   "metadata": {},
   "outputs": [
    {
     "name": "stdout",
     "output_type": "stream",
     "text": [
      "0     2.995142\n",
      "1     2.443575\n",
      "2     1.341910\n",
      "3     4.102810\n",
      "4     2.754730\n",
      "5     2.759277\n",
      "6     0.873866\n",
      "7     4.476286\n",
      "8     0.659795\n",
      "9     3.243545\n",
      "10    2.870825\n",
      "11    3.485239\n",
      "12    2.846397\n",
      "13    0.098513\n",
      "14    1.881945\n",
      "15    1.929515\n",
      "16    0.878480\n",
      "17    4.627979\n",
      "18    3.783659\n",
      "19    3.355883\n",
      "20    2.307413\n",
      "21    0.891581\n",
      "22    0.305688\n",
      "23    2.437059\n",
      "24   -0.692788\n",
      "25    1.659805\n",
      "26    0.972266\n",
      "27   -0.534810\n",
      "28    2.143267\n",
      "29    4.574817\n",
      "dtype: float64\n"
     ]
    }
   ],
   "source": [
    "print(array)"
   ]
  },
  {
   "cell_type": "code",
   "execution_count": 35,
   "metadata": {},
   "outputs": [],
   "source": [
    "anaemia_data['Diffrence']=abs(array)"
   ]
  },
  {
   "cell_type": "code",
   "execution_count": 36,
   "metadata": {},
   "outputs": [
    {
     "name": "stdout",
     "output_type": "stream",
     "text": [
      "    Patient     Before      After  Diffrence\n",
      "0         1   9.117786  12.112929   2.995142\n",
      "1         2  10.074848  12.518423   2.443575\n",
      "2         3  10.186123  11.528032   1.341910\n",
      "3         4   9.398755  13.501565   4.102810\n",
      "4         5  10.121229  12.875959   2.754730\n",
      "5         6   9.574643  12.333921   2.759277\n",
      "6         7  10.286168  11.160033   0.873866\n",
      "7         8   9.300501  13.776787   4.476286\n",
      "8         9  10.108360  10.768155   0.659795\n",
      "9        10   8.852812  12.096357   3.243545\n",
      "10       11   8.558250  11.429075   2.870825\n",
      "11       12   8.660642  12.145882   3.485239\n",
      "12       13  10.251329  13.097726   2.846397\n",
      "13       14  11.892559  11.991072   0.098513\n",
      "14       15  10.043462  11.925407   1.881945\n",
      "15       16  10.250900  12.180415   1.929515\n",
      "16       17  10.211394  11.089873   0.878480\n",
      "17       18   9.179688  13.807667   4.627979\n",
      "18       19   8.521977  12.305636   3.783659\n",
      "19       20   8.183221  11.539104   3.355883\n",
      "20       21   9.558645  11.866058   2.307413\n",
      "21       22  10.904289  11.795870   0.891581\n",
      "22       23  10.430615  10.736302   0.305688\n",
      "23       24  10.047934  12.484992   2.437059\n",
      "24       25  11.662251  10.969463   0.692788\n",
      "25       26  10.260657  11.920462   1.659805\n",
      "26       27   9.546757  10.519024   0.972266\n",
      "27       28  10.789681  10.254872   0.534810\n",
      "28       29  10.399415  12.542681   2.143267\n",
      "29       30   9.785166  14.359983   4.574817\n"
     ]
    }
   ],
   "source": [
    "print(anaemia_data)"
   ]
  },
  {
   "cell_type": "code",
   "execution_count": 37,
   "metadata": {},
   "outputs": [
    {
     "data": {
      "text/plain": [
       "2.2642955291333333"
      ]
     },
     "execution_count": 37,
     "metadata": {},
     "output_type": "execute_result"
    }
   ],
   "source": [
    "np.mean(anaemia_data['Diffrence'])"
   ]
  },
  {
   "cell_type": "code",
   "execution_count": 38,
   "metadata": {},
   "outputs": [
    {
     "data": {
      "text/plain": [
       "1.3215770362501635"
      ]
     },
     "execution_count": 38,
     "metadata": {},
     "output_type": "execute_result"
    }
   ],
   "source": [
    "np.std(anaemia_data['Diffrence'])"
   ]
  },
  {
   "cell_type": "code",
   "execution_count": 39,
   "metadata": {},
   "outputs": [
    {
     "name": "stdout",
     "output_type": "stream",
     "text": [
      "9.226556047794915\n"
     ]
    }
   ],
   "source": [
    "\n",
    "xbar = np.mean(anaemia_data['Diffrence'])\n",
    "s=np.std(anaemia_data['Diffrence'],ddof=1)\n",
    "                     # must include 'ddof = 1' to indicate that this is sample \n",
    "                     # standard deviation, rather than population standard deviation\n",
    "mu0 = 0\n",
    "n = len(anaemia_data['Diffrence'])\n",
    "t = (xbar-mu0)/(s/root(n))\n",
    "print(t)"
   ]
  },
  {
   "cell_type": "code",
   "execution_count": 40,
   "metadata": {},
   "outputs": [],
   "source": [
    "prob1 = stats.t.cdf(t,n-1)"
   ]
  },
  {
   "cell_type": "code",
   "execution_count": 42,
   "metadata": {},
   "outputs": [
    {
     "name": "stdout",
     "output_type": "stream",
     "text": [
      "False\n"
     ]
    }
   ],
   "source": [
    "alpha = 0.05\n",
    "print(prob1<alpha)"
   ]
  },
  {
   "cell_type": "code",
   "execution_count": 5,
   "metadata": {},
   "outputs": [
    {
     "data": {
      "text/plain": [
       "81.2"
      ]
     },
     "execution_count": 5,
     "metadata": {},
     "output_type": "execute_result"
    }
   ],
   "source": [
    "\n",
    "a=[0.5, 6.8, 12.5, 6.5, 24.0, 8.6, 21.8, 0.5]\n",
    "np.sum(a)"
   ]
  },
  {
   "cell_type": "code",
   "execution_count": 6,
   "metadata": {},
   "outputs": [
    {
     "data": {
      "text/plain": [
       "8"
      ]
     },
     "execution_count": 6,
     "metadata": {},
     "output_type": "execute_result"
    }
   ],
   "source": [
    "len(a)"
   ]
  },
  {
   "cell_type": "code",
   "execution_count": 7,
   "metadata": {},
   "outputs": [
    {
     "data": {
      "text/plain": [
       "10.15"
      ]
     },
     "execution_count": 7,
     "metadata": {},
     "output_type": "execute_result"
    }
   ],
   "source": [
    "np.mean(a)"
   ]
  },
  {
   "cell_type": "code",
   "execution_count": 23,
   "metadata": {},
   "outputs": [],
   "source": [
    "xbar = 14.8\n",
    "s=4.1\n",
    "                     # must include 'ddof = 1' to indicate that this is sample \n",
    "                     # standard deviation, rather than population standard deviation\n",
    "mu0 = 13\n",
    "n = 20\n",
    "t = (xbar-mu0)/(s/np.sqrt(n))"
   ]
  },
  {
   "cell_type": "code",
   "execution_count": 24,
   "metadata": {},
   "outputs": [
    {
     "data": {
      "text/plain": [
       "1.9633767607315238"
      ]
     },
     "execution_count": 24,
     "metadata": {},
     "output_type": "execute_result"
    }
   ],
   "source": [
    "t"
   ]
  },
  {
   "cell_type": "code",
   "execution_count": 22,
   "metadata": {},
   "outputs": [
    {
     "name": "stdout",
     "output_type": "stream",
     "text": [
      "0.9673788938368979\n"
     ]
    }
   ],
   "source": [
    "prob1 = stats.t.cdf(t,18)\n",
    "print(prob1)"
   ]
  },
  {
   "cell_type": "code",
   "execution_count": 21,
   "metadata": {},
   "outputs": [
    {
     "data": {
      "text/plain": [
       "True"
      ]
     },
     "execution_count": 21,
     "metadata": {},
     "output_type": "execute_result"
    }
   ],
   "source": [
    "prob1>0.05\n"
   ]
  },
  {
   "cell_type": "code",
   "execution_count": 25,
   "metadata": {},
   "outputs": [],
   "source": [
    "t=-1.644"
   ]
  },
  {
   "cell_type": "code",
   "execution_count": 26,
   "metadata": {},
   "outputs": [],
   "source": [
    "prob1 = stats.t.cdf(t,40)"
   ]
  },
  {
   "cell_type": "code",
   "execution_count": 27,
   "metadata": {},
   "outputs": [
    {
     "data": {
      "text/plain": [
       "0.05400720092924233"
      ]
     },
     "execution_count": 27,
     "metadata": {},
     "output_type": "execute_result"
    }
   ],
   "source": [
    "prob1"
   ]
  },
  {
   "cell_type": "code",
   "execution_count": null,
   "metadata": {},
   "outputs": [],
   "source": []
  }
 ],
 "metadata": {
  "kernelspec": {
   "display_name": "Python 3",
   "language": "python",
   "name": "python3"
  },
  "language_info": {
   "codemirror_mode": {
    "name": "ipython",
    "version": 3
   },
   "file_extension": ".py",
   "mimetype": "text/x-python",
   "name": "python",
   "nbconvert_exporter": "python",
   "pygments_lexer": "ipython3",
   "version": "3.7.4"
  }
 },
 "nbformat": 4,
 "nbformat_minor": 2
}
