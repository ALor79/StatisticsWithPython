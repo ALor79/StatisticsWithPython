{
 "cells": [
  {
   "cell_type": "code",
   "execution_count": 1,
   "metadata": {},
   "outputs": [],
   "source": [
    "import numpy as np\n",
    "import pandas as pd\n",
    "import matplotlib.pyplot as plt\n",
    "import scipy.stats as stats\n"
   ]
  },
  {
   "cell_type": "code",
   "execution_count": 14,
   "metadata": {},
   "outputs": [
    {
     "data": {
      "text/plain": [
       "<Figure size 432x288 with 0 Axes>"
      ]
     },
     "metadata": {},
     "output_type": "display_data"
    }
   ],
   "source": [
    "#  x = np.linspace(-5,5,100)\n",
    "plt.figure()\n",
    "# plt.plot(x,stats.norm.pdf(x,loc=2,scale=2))\n",
    "# plt.axis([-5,5,0,0.41])\n",
    "# plt.xlabel('$x$',fontsize=16)\n",
    "# plt.ylabel('$f(x)$',fontsize=16)\n",
    "# plt.xticks(fontsize=14)\n",
    "# # plt.yticks([0,0.1,0.2,0.3,0.4],fontsize=14)\n",
    "# plt.title('Standard Normal Distribution',fontsize=16)\n"
   ]
  },
  {
   "cell_type": "code",
   "execution_count": 37,
   "metadata": {},
   "outputs": [
    {
     "data": {
      "text/plain": [
       "(array([  2.,   1.,   2.,   4.,   8.,   6.,  23.,  23.,  43.,  51.,  64.,\n",
       "         68.,  85.,  87., 104.,  83.,  87.,  65.,  64.,  42.,  32.,  17.,\n",
       "         21.,   9.,   4.,   1.,   1.,   1.,   1.,   1.]),\n",
       " array([-9.87037567, -9.18914254, -8.50790942, -7.82667629, -7.14544316,\n",
       "        -6.46421003, -5.78297691, -5.10174378, -4.42051065, -3.73927752,\n",
       "        -3.0580444 , -2.37681127, -1.69557814, -1.01434502, -0.33311189,\n",
       "         0.34812124,  1.02935437,  1.71058749,  2.39182062,  3.07305375,\n",
       "         3.75428688,  4.43552   ,  5.11675313,  5.79798626,  6.47921938,\n",
       "         7.16045251,  7.84168564,  8.52291877,  9.20415189,  9.88538502,\n",
       "        10.56661815]),\n",
       " <a list of 30 Patch objects>)"
      ]
     },
     "execution_count": 37,
     "metadata": {},
     "output_type": "execute_result"
    },
    {
     "data": {
      "image/png": "[encoded data removed]",
      "text/plain": [
       "<Figure size 432x288 with 1 Axes>"
      ]
     },
     "metadata": {
      "needs_background": "light"
     },
     "output_type": "display_data"
    }
   ],
   "source": [
    "sample = stats.norm.rvs(loc=0,scale=3,size=1000)\n",
    "\n",
    "plt.hist(sample,bins=30)"
   ]
  },
  {
   "cell_type": "code",
   "execution_count": 21,
   "metadata": {},
   "outputs": [
    {
     "data": {
      "text/plain": [
       "(array([ 96., 106., 129., 146., 109.,  92.]),\n",
       " array([-3, -2, -1,  0,  1,  2,  3]),\n",
       " <a list of 6 Patch objects>)"
      ]
     },
     "execution_count": 21,
     "metadata": {},
     "output_type": "execute_result"
    },
    {
     "data": {
      "image/png": "[encoded data removed]",
      "text/plain": [
       "<Figure size 432x288 with 1 Axes>"
      ]
     },
     "metadata": {
      "needs_background": "light"
     },
     "output_type": "display_data"
    }
   ],
   "source": [
    "plt.hist(sample,bins=[-3,-2,-1,0,1,2,3])"
   ]
  },
  {
   "cell_type": "code",
   "execution_count": 22,
   "metadata": {},
   "outputs": [
    {
     "name": "stdout",
     "output_type": "stream",
     "text": [
      "0.6914624612740131\n"
     ]
    }
   ],
   "source": [
    " prob1 = stats.norm.cdf(0.5,loc=0,scale=1)\n",
    "print(prob1)"
   ]
  },
  {
   "cell_type": "code",
   "execution_count": 24,
   "metadata": {},
   "outputs": [
    {
     "name": "stdout",
     "output_type": "stream",
     "text": [
      "0.6209665325776159\n"
     ]
    }
   ],
   "source": [
    "# P(X > 2.5) where X ∼ N(0, 1) \n",
    "prob2 = 1-stats.norm.cdf(2.5,loc=0,scale=1)\n",
    "print(prob2*100)"
   ]
  },
  {
   "cell_type": "code",
   "execution_count": 31,
   "metadata": {},
   "outputs": [
    {
     "name": "stdout",
     "output_type": "stream",
     "text": [
      "0.8848986585364587\n"
     ]
    }
   ],
   "source": [
    "# P(1.2 < X < 4) where X ∼ N(0, 1)\n",
    "# P(x<4)-p(x<1.2)\n",
    "\n",
    "print(stats.norm.cdf(4,loc=0,scale=1)-stats.norm.cdf(1.2,loc=0,scale=1))"
   ]
  },
  {
   "cell_type": "code",
   "execution_count": 27,
   "metadata": {},
   "outputs": [
    {
     "data": {
      "text/plain": [
       "0.6914624612740131"
      ]
     },
     "execution_count": 27,
     "metadata": {},
     "output_type": "execute_result"
    }
   ],
   "source": [
    "stats.norm.cdf(10,loc=8,scale=np.sqrt(16))"
   ]
  },
  {
   "cell_type": "code",
   "execution_count": 28,
   "metadata": {},
   "outputs": [
    {
     "data": {
      "text/plain": [
       "0.6914624612740131"
      ]
     },
     "execution_count": 28,
     "metadata": {},
     "output_type": "execute_result"
    }
   ],
   "source": [
    "stats.norm.cdf(10,loc=8,scale=4)"
   ]
  },
  {
   "cell_type": "code",
   "execution_count": 30,
   "metadata": {},
   "outputs": [
    {
     "data": {
      "text/plain": [
       "0.0002326290790355401"
      ]
     },
     "execution_count": 30,
     "metadata": {},
     "output_type": "execute_result"
    }
   ],
   "source": [
    "1-stats.norm.cdf(0,loc=-7,scale=np.sqrt(4))"
   ]
  },
  {
   "cell_type": "code",
   "execution_count": 33,
   "metadata": {},
   "outputs": [
    {
     "data": {
      "text/plain": [
       "0.8185946141203637"
      ]
     },
     "execution_count": 33,
     "metadata": {},
     "output_type": "execute_result"
    }
   ],
   "source": [
    "# P(1 < X < 2.5)\n",
    "# P(X<2.5)-P(X<1)\n",
    "stats.norm.cdf(2.5,loc=2,scale=np.sqrt(0.25))-stats.norm.cdf(1,loc=2,scale=np.sqrt(0.25))"
   ]
  },
  {
   "cell_type": "code",
   "execution_count": 35,
   "metadata": {},
   "outputs": [
    {
     "data": {
      "text/plain": [
       "(array([0.  , 0.05, 0.1 , 0.15, 0.2 , 0.25]),\n",
       " <a list of 6 Text yticklabel objects>)"
      ]
     },
     "execution_count": 35,
     "metadata": {},
     "output_type": "execute_result"
    },
    {
     "data": {
      "image/png": "[encoded data removed]",
      "text/plain": [
       "<Figure size 432x288 with 1 Axes>"
      ]
     },
     "metadata": {
      "needs_background": "light"
     },
     "output_type": "display_data"
    }
   ],
   "source": [
    "x = np.linspace(0,15,100)\n",
    "plt.figure()\n",
    "plt.plot(x,stats.expon.pdf(x,scale=4))\n",
    "plt.axis([0,15,0,0.25])\n",
    "plt.xlabel('iPad lifetime (years)',fontsize=16)\n",
    "plt.ylabel('Probability density',fontsize=16)\n",
    "plt.xticks(fontsize=10)\n",
    "plt.yticks(fontsize=10)"
   ]
  },
  {
   "cell_type": "code",
   "execution_count": 46,
   "metadata": {},
   "outputs": [
    {
     "data": {
      "text/plain": [
       "[<matplotlib.lines.Line2D at 0x1a23ca27d0>]"
      ]
     },
     "execution_count": 46,
     "metadata": {},
     "output_type": "execute_result"
    },
    {
     "data": {
      "image/png": "[encoded data removed]",
      "text/plain": [
       "<Figure size 432x288 with 1 Axes>"
      ]
     },
     "metadata": {
      "needs_background": "light"
     },
     "output_type": "display_data"
    }
   ],
   "source": [
    "x=np.linspace(0,15)\n",
    "plt.plot(x,stats.expon.pdf(x,scale=4))"
   ]
  },
  {
   "cell_type": "code",
   "execution_count": 49,
   "metadata": {},
   "outputs": [
    {
     "name": "stdout",
     "output_type": "stream",
     "text": [
      "0.7134952031398099\n"
     ]
    }
   ],
   "source": [
    "prob_exp1 = stats.expon.cdf(5,scale=4)\n",
    "print(prob_exp1)"
   ]
  },
  {
   "cell_type": "code",
   "execution_count": 53,
   "metadata": {},
   "outputs": [
    {
     "name": "stdout",
     "output_type": "stream",
     "text": [
      "[94.536, 105.464]\n"
     ]
    }
   ],
   "source": [
    "xbar = 100\n",
    "s = 15\n",
    "n = 50\n",
    "confidence = 0.99\n",
    "z = stats.norm.ppf((1 + confidence)/2)\n",
    "lower = xbar - z*s/np.sqrt(n)\n",
    "upper = xbar + z*s/np.sqrt(n)\n",
    "print([round(lower,3),round(upper,3)])"
   ]
  },
  {
   "cell_type": "code",
   "execution_count": 59,
   "metadata": {},
   "outputs": [
    {
     "name": "stdout",
     "output_type": "stream",
     "text": [
      "      var1   var2  var3     var4     var5    var6\n",
      "0   8.2695  0.055    15  14.9434  19.8185  0.2960\n",
      "1   9.4802  0.110     7  -3.3804  12.1965  0.9867\n",
      "2   9.6648  0.148    13   0.3638  24.7143  0.9524\n",
      "3   9.8530  0.238    14  -6.6535  10.5307  0.9582\n",
      "4  10.0435  0.274    13  -6.1799  16.8343  0.7152\n"
     ]
    }
   ],
   "source": [
    "data = pd.read_csv('variables.csv')\n",
    "print(data.head())\n"
   ]
  },
  {
   "cell_type": "code",
   "execution_count": 61,
   "metadata": {},
   "outputs": [
    {
     "name": "stdout",
     "output_type": "stream",
     "text": [
      "Confidence interval for the true population mean: [19.17, 20.37]\n"
     ]
    }
   ],
   "source": [
    "xbar = np.mean(data.iloc[:,4])\n",
    "s = np.std(data.iloc[:,4])\n",
    "n = len(data)\n",
    "confidence = 0.99\n",
    "z = stats.norm.ppf((1 + confidence)/2)\n",
    "lower = xbar - z*s/np.sqrt(n)\n",
    "upper = xbar + z*s/np.sqrt(n)\n",
    "print('Confidence interval for the true population mean:',[round(lower,2),round(upper,2)])"
   ]
  },
  {
   "cell_type": "code",
   "execution_count": null,
   "metadata": {},
   "outputs": [],
   "source": []
  }
 ],
 "metadata": {
  "kernelspec": {
   "display_name": "Python 3",
   "language": "python",
   "name": "python3"
  },
  "language_info": {
   "codemirror_mode": {
    "name": "ipython",
    "version": 3
   },
   "file_extension": ".py",
   "mimetype": "text/x-python",
   "name": "python",
   "nbconvert_exporter": "python",
   "pygments_lexer": "ipython3",
   "version": "3.7.4"
  }
 },
 "nbformat": 4,
 "nbformat_minor": 2
}
