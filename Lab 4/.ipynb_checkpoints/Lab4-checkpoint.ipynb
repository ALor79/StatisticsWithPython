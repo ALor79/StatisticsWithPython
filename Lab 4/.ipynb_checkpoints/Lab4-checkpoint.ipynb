{
 "cells": [
  {
   "cell_type": "code",
   "execution_count": 2,
   "metadata": {},
   "outputs": [],
   "source": [
    "#Done by Mohammad Ali Agharazi\n",
    "import numpy as np\n",
    "import pandas as pd\n",
    "import matplotlib.pyplot as plt\n",
    "import scipy.stats as stats"
   ]
  },
  {
   "cell_type": "code",
   "execution_count": 4,
   "metadata": {},
   "outputs": [
    {
     "data": {
      "text/plain": [
       "(array([ 1.,  0.,  5., 12., 15., 25., 15., 10.,  9.,  8.]),\n",
       " array([-28.02173319, -24.9953369 , -21.9689406 , -18.94254431,\n",
       "        -15.91614802, -12.88975172,  -9.86335543,  -6.83695913,\n",
       "         -3.81056284,  -0.78416654,   2.24222975]),\n",
       " <a list of 10 Patch objects>)"
      ]
     },
     "execution_count": 4,
     "metadata": {},
     "output_type": "execute_result"
    },
    {
     "data": {
      "image/png": "[encoded data removed]",
      "text/plain": [
       "<Figure size 432x288 with 1 Axes>"
      ]
     },
     "metadata": {
      "needs_background": "light"
     },
     "output_type": "display_data"
    }
   ],
   "source": [
    "# Question 1\n",
    "# If X is a normal random variable with mean -10 and variance 36,\n",
    "# which of the following commands should you use to sample 100 items from X?\n",
    "plt.hist(stats.norm.rvs(loc=-10,scale=6,size=100))"
   ]
  },
  {
   "cell_type": "code",
   "execution_count": 5,
   "metadata": {},
   "outputs": [
    {
     "data": {
      "text/plain": [
       "(array([  1.,   4.,  18.,  86., 223., 287., 226., 115.,  38.,   2.]),\n",
       " array([-35.63852913, -31.13825635, -26.63798357, -22.13771079,\n",
       "        -17.63743801, -13.13716523,  -8.63689245,  -4.13661967,\n",
       "          0.36365311,   4.86392589,   9.36419867]),\n",
       " <a list of 10 Patch objects>)"
      ]
     },
     "execution_count": 5,
     "metadata": {},
     "output_type": "execute_result"
    },
    {
     "data": {
      "image/png": "[encoded data removed]",
      "text/plain": [
       "<Figure size 432x288 with 1 Axes>"
      ]
     },
     "metadata": {
      "needs_background": "light"
     },
     "output_type": "display_data"
    }
   ],
   "source": [
    "# Question 2 \n",
    "# Consider the histogram you created in Exercise 1. \n",
    "# How does the shape of the histogram change if you increase the sample size to 1000?\n",
    "plt.hist(stats.norm.rvs(loc=-10,scale=6,size=1000))"
   ]
  },
  {
   "cell_type": "code",
   "execution_count": 9,
   "metadata": {},
   "outputs": [
    {
     "data": {
      "text/plain": [
       "0.1012"
      ]
     },
     "execution_count": 9,
     "metadata": {},
     "output_type": "execute_result"
    }
   ],
   "source": [
    "# Question 3 \n",
    "# If X is a standard normal random variable N(0,1), what is P(X<-1.275)? (Rounded to 4 decimal places)\n",
    "round(stats.norm.cdf(-1.275,loc=0,scale=1),4)"
   ]
  },
  {
   "cell_type": "code",
   "execution_count": 11,
   "metadata": {},
   "outputs": [
    {
     "data": {
      "text/plain": [
       "0.2967"
      ]
     },
     "execution_count": 11,
     "metadata": {},
     "output_type": "execute_result"
    }
   ],
   "source": [
    "# Question 4 \n",
    "# If X is a standard normal random variable N(0,1), what is P(X>0.534)? (Rounded to 4 decimal places)\n",
    "round(1-stats.norm.cdf(0.534,loc=0,scale=1),4)# 1- P(X<0.534)=P(X>0.534)"
   ]
  },
  {
   "cell_type": "code",
   "execution_count": 12,
   "metadata": {},
   "outputs": [
    {
     "name": "stdout",
     "output_type": "stream",
     "text": [
      "0.8588\n"
     ]
    }
   ],
   "source": [
    "# Question 5\n",
    "# If X is a normal random variable with mean 10 and standard deviation 4,\n",
    "# what is P(X>5.7)? (Rounded to 4 decimal places)\n",
    "probability=1-stats.norm.cdf(5.7,loc=10,scale=4)# 1-P(X<5.7)~N(10,16)\n",
    "print(round(probability,4))"
   ]
  },
  {
   "cell_type": "code",
   "execution_count": 13,
   "metadata": {},
   "outputs": [
    {
     "name": "stdout",
     "output_type": "stream",
     "text": [
      "0.1587\n"
     ]
    }
   ],
   "source": [
    "# Question 6 \n",
    "# The run time of a particular piece of Python code is normally distributed with mean 10 second and standard deviation\n",
    "# 2 seconds. \n",
    "# What is the probability that the code will take less than 8 seconds to run? (Rounded to 4 decimal places.)\n",
    "# ie P(x<8)~N(10,4)\n",
    "std=2\n",
    "X=8\n",
    "mean=10\n",
    "P=stats.norm.cdf(X,loc=mean,scale=std)\n",
    "print(round(P,4))"
   ]
  },
  {
   "cell_type": "code",
   "execution_count": 15,
   "metadata": {},
   "outputs": [
    {
     "name": "stdout",
     "output_type": "stream",
     "text": [
      "97.7\n"
     ]
    }
   ],
   "source": [
    "# Question 7 \n",
    "# The time taken to complete a test is normally distributed with mean 40 mins and standard deviation 5 minutes. \n",
    "# If the duration of the test is 50 minutes, what percentage of students complete the test within the allowed time \n",
    "# frame? (Rounded to 1 decimal place)\n",
    "# ie P(x<50)~N(40,5^2)\n",
    "std=5\n",
    "X=50\n",
    "mean=40\n",
    "P=stats.norm.cdf(X,loc=mean,scale=std)\n",
    "print(round(P*100,1))"
   ]
  },
  {
   "cell_type": "code",
   "execution_count": 26,
   "metadata": {},
   "outputs": [
    {
     "data": {
      "text/plain": [
       "(array([68., 19., 10.,  3.]),\n",
       " array([ 0.03766572,  6.40241415, 12.76716258, 19.13191101, 25.49665944]),\n",
       " <a list of 4 Patch objects>)"
      ]
     },
     "execution_count": 26,
     "metadata": {},
     "output_type": "execute_result"
    },
    {
     "data": {
      "image/png": "[encoded data removed]",
      "text/plain": [
       "<Figure size 432x288 with 1 Axes>"
      ]
     },
     "metadata": {
      "needs_background": "light"
     },
     "output_type": "display_data"
    }
   ],
   "source": [
    "# Question 8\n",
    "# If Y is an exponential random variable with mean 5, which of the following commands should you use to sample 10 items from Y?\n",
    "\n",
    "exp1=stats.expon.rvs(scale=5,size=100)\n",
    "plt.hist(exp1,bins=4)"
   ]
  },
  {
   "cell_type": "code",
   "execution_count": 28,
   "metadata": {},
   "outputs": [
    {
     "name": "stdout",
     "output_type": "stream",
     "text": [
      "0.8466\n"
     ]
    }
   ],
   "source": [
    "# Question 9 \n",
    "# The amount of time a doctor spends with each patient is exponentially distributed with a mean of 8 minutes. \n",
    "# What is the probability of them spending less than 15 minutes with their next patient?(Rounded to 4 decimal places.)\n",
    "\n",
    "mean=8\n",
    "X=15\n",
    "print(round(stats.expon.cdf(X,scale=mean),4))"
   ]
  },
  {
   "cell_type": "code",
   "execution_count": 29,
   "metadata": {},
   "outputs": [
    {
     "name": "stdout",
     "output_type": "stream",
     "text": [
      "0.2212\n"
     ]
    }
   ],
   "source": [
    "# Question 10\n",
    "# The amount of time students spent studying for an exam is exponentially distributed with a mean of 20 hours.\n",
    "# What proportion of students spent less than 5 hours studying for the exam?\n",
    "X=5 \n",
    "mean=20\n",
    "print(round(stats.expon.cdf(X,scale=mean),4))"
   ]
  },
  {
   "cell_type": "code",
   "execution_count": 33,
   "metadata": {},
   "outputs": [
    {
     "name": "stdout",
     "output_type": "stream",
     "text": [
      "[1.355, 1.405]\n"
     ]
    }
   ],
   "source": [
    "# Question 11 \n",
    "# A sample of petrol prices was taken at 70 petrol stations across the Ireland.\n",
    "# The average price per litre was found to be €1.38, with a standard deviation of €0.08. \n",
    "# What is the 99% confidence interval estimate for the mean price of petrol in Ireland?\n",
    "xbar = 1.38\n",
    "s = 0.08\n",
    "n = 70\n",
    "confidence = 0.99\n",
    "z = stats.norm.ppf((1 + confidence)/2)\n",
    "lower = xbar - z*s/np.sqrt(n)\n",
    "upper = xbar + z*s/np.sqrt(n)\n",
    "print([round(lower,3),round(upper,3)])"
   ]
  },
  {
   "cell_type": "code",
   "execution_count": 35,
   "metadata": {},
   "outputs": [
    {
     "name": "stdout",
     "output_type": "stream",
     "text": [
      "Confidence interval for the true population mean: [18.98, 20.56]\n"
     ]
    }
   ],
   "source": [
    "## Question 12\n",
    "#What is the 99% confidence interval for the 5th column ('var5') in the dataset 'variables.csv'?\n",
    "\n",
    "\n",
    "data= pd.read_csv('variables.csv')\n",
    "xbar = np.mean(data.iloc[:,4])\n",
    "s = np.std(data.iloc[:,4])\n",
    "n = len(data)\n",
    "confidence = 0.99\n",
    "z = stats.norm.ppf((1 + confidence)/2)\n",
    "lower = xbar - z*s/np.sqrt(n)\n",
    "upper = xbar + z*s/np.sqrt(n)\n",
    "print('Confidence interval for the true population mean:',[round(lower,2),round(upper,2)])"
   ]
  },
  {
   "cell_type": "code",
   "execution_count": null,
   "metadata": {},
   "outputs": [],
   "source": []
  }
 ],
 "metadata": {
  "kernelspec": {
   "display_name": "Python 3",
   "language": "python",
   "name": "python3"
  },
  "language_info": {
   "codemirror_mode": {
    "name": "ipython",
    "version": 3
   },
   "file_extension": ".py",
   "mimetype": "text/x-python",
   "name": "python",
   "nbconvert_exporter": "python",
   "pygments_lexer": "ipython3",
   "version": "3.7.4"
  }
 },
 "nbformat": 4,
 "nbformat_minor": 2
}
